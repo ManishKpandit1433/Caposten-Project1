{
  "nbformat": 4,
  "nbformat_minor": 0,
  "metadata": {
    "kernelspec": {
      "display_name": "Python 3",
      "language": "python",
      "name": "python3"
    },
    "language_info": {
      "codemirror_mode": {
        "name": "ipython",
        "version": 3
      },
      "file_extension": ".py",
      "mimetype": "text/x-python",
      "name": "python",
      "nbconvert_exporter": "python",
      "pygments_lexer": "ipython3",
      "version": "3.6.6"
    },
    "colab": {
      "provenance": [],
      "collapsed_sections": [],
      "include_colab_link": true
    }
  },
  "cells": [
    {
      "cell_type": "markdown",
      "metadata": {
        "id": "view-in-github",
        "colab_type": "text"
      },
      "source": [
        "<a href=\"https://colab.research.google.com/github/ManishKpandit1433/Caposten-Project1/blob/main/Play_Store_App_Review_Analysis_Capstone_Project.ipynb\" target=\"_parent\"><img src=\"https://colab.research.google.com/assets/colab-badge.svg\" alt=\"Open In Colab\"/></a>"
      ]
    },
    {
      "cell_type": "markdown",
      "metadata": {
        "id": "Y06xIdG26kRF"
      },
      "source": [
        "## <b> The Play Store apps data has enormous potential to drive app-making businesses to success. Actionable insights can be drawn for developers to work on and capture the Android market. </b>\n",
        "\n",
        "## <b> Each app (row) has values for catergory, rating, size, and more. Another dataset contains customer reviews of the android apps.</b>\n",
        "\n",
        "## <b> Explore and analyze the data to discover key factors responsible for app engagement and success. </b>"
      ]
    },
    {
      "cell_type": "markdown",
      "source": [
        "# Exploratory Analysis\n",
        "# To begin this exploratory analysis, first we are going to use matplotlib to import libraries and define functions for plotting the data. Depending on the data, not all plots will be made."
      ],
      "metadata": {
        "id": "DDjq--kQqYUB"
      }
    },
    {
      "cell_type": "markdown",
      "source": [
        "1. Importing Packages and Data\n",
        "\n"
      ],
      "metadata": {
        "id": "n9mioSk2r3tL"
      }
    },
    {
      "cell_type": "code",
      "metadata": {
        "id": "dByMsuzT8Tnw"
      },
      "source": [
        "import numpy as np \n",
        "import pandas as pd \n",
        "import seaborn as sns\n",
        "import plotly.graph_objs as go\n",
        "import matplotlib.pyplot as plt\n",
        "%matplotlib inline\n",
        "from scipy import stats"
      ],
      "execution_count": 5,
      "outputs": []
    },
    {
      "cell_type": "code",
      "source": [
        "from google.colab import drive\n",
        "drive.mount('/content/gdrive')"
      ],
      "metadata": {
        "colab": {
          "base_uri": "https://localhost:8080/"
        },
        "id": "zhBELsxfeA5P",
        "outputId": "f34401d5-181e-491c-dfd5-7c713ece6d1f"
      },
      "execution_count": 6,
      "outputs": [
        {
          "output_type": "stream",
          "name": "stdout",
          "text": [
            "Drive already mounted at /content/gdrive; to attempt to forcibly remount, call drive.mount(\"/content/gdrive\", force_remount=True).\n"
          ]
        }
      ]
    },
    {
      "cell_type": "code",
      "source": [
        "df = pd.read_csv('/content/gdrive/MyDrive/ Capstone  Project  1/Play Store Data.csv', dtype='str')"
      ],
      "metadata": {
        "id": "Hct3At4Dd1WX"
      },
      "execution_count": 7,
      "outputs": []
    },
    {
      "cell_type": "markdown",
      "source": [
        "## 1. We first use a .head method to get a quick look at the first 5 rows of data. Here we can make initial thoughts on what might need to be cleaned or manipulated. A .info and .shape will give us a little more information of the dataset. The .shape method reveals that we have 10841 rows and 13 columns."
      ],
      "metadata": {
        "id": "M1-XXvHWfH3Z"
      }
    },
    {
      "cell_type": "code",
      "source": [
        "df.head()"
      ],
      "metadata": {
        "colab": {
          "base_uri": "https://localhost:8080/",
          "height": 354
        },
        "id": "cJHJI1rfd99t",
        "outputId": "ad1fd09a-01f8-4759-ac10-5039db974c1f"
      },
      "execution_count": 8,
      "outputs": [
        {
          "output_type": "execute_result",
          "data": {
            "text/plain": [
              "                                                 App        Category Rating  \\\n",
              "0     Photo Editor & Candy Camera & Grid & ScrapBook  ART_AND_DESIGN    4.1   \n",
              "1                                Coloring book moana  ART_AND_DESIGN    3.9   \n",
              "2  U Launcher Lite – FREE Live Cool Themes, Hide ...  ART_AND_DESIGN    4.7   \n",
              "3                              Sketch - Draw & Paint  ART_AND_DESIGN    4.5   \n",
              "4              Pixel Draw - Number Art Coloring Book  ART_AND_DESIGN    4.3   \n",
              "\n",
              "  Reviews  Size     Installs  Type Price Content Rating  \\\n",
              "0     159   19M      10,000+  Free     0       Everyone   \n",
              "1     967   14M     500,000+  Free     0       Everyone   \n",
              "2   87510  8.7M   5,000,000+  Free     0       Everyone   \n",
              "3  215644   25M  50,000,000+  Free     0           Teen   \n",
              "4     967  2.8M     100,000+  Free     0       Everyone   \n",
              "\n",
              "                      Genres      Last Updated         Current Ver  \\\n",
              "0               Art & Design   January 7, 2018               1.0.0   \n",
              "1  Art & Design;Pretend Play  January 15, 2018               2.0.0   \n",
              "2               Art & Design    August 1, 2018               1.2.4   \n",
              "3               Art & Design      June 8, 2018  Varies with device   \n",
              "4    Art & Design;Creativity     June 20, 2018                 1.1   \n",
              "\n",
              "    Android Ver  \n",
              "0  4.0.3 and up  \n",
              "1  4.0.3 and up  \n",
              "2  4.0.3 and up  \n",
              "3    4.2 and up  \n",
              "4    4.4 and up  "
            ],
            "text/html": [
              "\n",
              "  <div id=\"df-dedf7cac-2992-4666-9a7b-9c248d1917a2\">\n",
              "    <div class=\"colab-df-container\">\n",
              "      <div>\n",
              "<style scoped>\n",
              "    .dataframe tbody tr th:only-of-type {\n",
              "        vertical-align: middle;\n",
              "    }\n",
              "\n",
              "    .dataframe tbody tr th {\n",
              "        vertical-align: top;\n",
              "    }\n",
              "\n",
              "    .dataframe thead th {\n",
              "        text-align: right;\n",
              "    }\n",
              "</style>\n",
              "<table border=\"1\" class=\"dataframe\">\n",
              "  <thead>\n",
              "    <tr style=\"text-align: right;\">\n",
              "      <th></th>\n",
              "      <th>App</th>\n",
              "      <th>Category</th>\n",
              "      <th>Rating</th>\n",
              "      <th>Reviews</th>\n",
              "      <th>Size</th>\n",
              "      <th>Installs</th>\n",
              "      <th>Type</th>\n",
              "      <th>Price</th>\n",
              "      <th>Content Rating</th>\n",
              "      <th>Genres</th>\n",
              "      <th>Last Updated</th>\n",
              "      <th>Current Ver</th>\n",
              "      <th>Android Ver</th>\n",
              "    </tr>\n",
              "  </thead>\n",
              "  <tbody>\n",
              "    <tr>\n",
              "      <th>0</th>\n",
              "      <td>Photo Editor &amp; Candy Camera &amp; Grid &amp; ScrapBook</td>\n",
              "      <td>ART_AND_DESIGN</td>\n",
              "      <td>4.1</td>\n",
              "      <td>159</td>\n",
              "      <td>19M</td>\n",
              "      <td>10,000+</td>\n",
              "      <td>Free</td>\n",
              "      <td>0</td>\n",
              "      <td>Everyone</td>\n",
              "      <td>Art &amp; Design</td>\n",
              "      <td>January 7, 2018</td>\n",
              "      <td>1.0.0</td>\n",
              "      <td>4.0.3 and up</td>\n",
              "    </tr>\n",
              "    <tr>\n",
              "      <th>1</th>\n",
              "      <td>Coloring book moana</td>\n",
              "      <td>ART_AND_DESIGN</td>\n",
              "      <td>3.9</td>\n",
              "      <td>967</td>\n",
              "      <td>14M</td>\n",
              "      <td>500,000+</td>\n",
              "      <td>Free</td>\n",
              "      <td>0</td>\n",
              "      <td>Everyone</td>\n",
              "      <td>Art &amp; Design;Pretend Play</td>\n",
              "      <td>January 15, 2018</td>\n",
              "      <td>2.0.0</td>\n",
              "      <td>4.0.3 and up</td>\n",
              "    </tr>\n",
              "    <tr>\n",
              "      <th>2</th>\n",
              "      <td>U Launcher Lite – FREE Live Cool Themes, Hide ...</td>\n",
              "      <td>ART_AND_DESIGN</td>\n",
              "      <td>4.7</td>\n",
              "      <td>87510</td>\n",
              "      <td>8.7M</td>\n",
              "      <td>5,000,000+</td>\n",
              "      <td>Free</td>\n",
              "      <td>0</td>\n",
              "      <td>Everyone</td>\n",
              "      <td>Art &amp; Design</td>\n",
              "      <td>August 1, 2018</td>\n",
              "      <td>1.2.4</td>\n",
              "      <td>4.0.3 and up</td>\n",
              "    </tr>\n",
              "    <tr>\n",
              "      <th>3</th>\n",
              "      <td>Sketch - Draw &amp; Paint</td>\n",
              "      <td>ART_AND_DESIGN</td>\n",
              "      <td>4.5</td>\n",
              "      <td>215644</td>\n",
              "      <td>25M</td>\n",
              "      <td>50,000,000+</td>\n",
              "      <td>Free</td>\n",
              "      <td>0</td>\n",
              "      <td>Teen</td>\n",
              "      <td>Art &amp; Design</td>\n",
              "      <td>June 8, 2018</td>\n",
              "      <td>Varies with device</td>\n",
              "      <td>4.2 and up</td>\n",
              "    </tr>\n",
              "    <tr>\n",
              "      <th>4</th>\n",
              "      <td>Pixel Draw - Number Art Coloring Book</td>\n",
              "      <td>ART_AND_DESIGN</td>\n",
              "      <td>4.3</td>\n",
              "      <td>967</td>\n",
              "      <td>2.8M</td>\n",
              "      <td>100,000+</td>\n",
              "      <td>Free</td>\n",
              "      <td>0</td>\n",
              "      <td>Everyone</td>\n",
              "      <td>Art &amp; Design;Creativity</td>\n",
              "      <td>June 20, 2018</td>\n",
              "      <td>1.1</td>\n",
              "      <td>4.4 and up</td>\n",
              "    </tr>\n",
              "  </tbody>\n",
              "</table>\n",
              "</div>\n",
              "      <button class=\"colab-df-convert\" onclick=\"convertToInteractive('df-dedf7cac-2992-4666-9a7b-9c248d1917a2')\"\n",
              "              title=\"Convert this dataframe to an interactive table.\"\n",
              "              style=\"display:none;\">\n",
              "        \n",
              "  <svg xmlns=\"http://www.w3.org/2000/svg\" height=\"24px\"viewBox=\"0 0 24 24\"\n",
              "       width=\"24px\">\n",
              "    <path d=\"M0 0h24v24H0V0z\" fill=\"none\"/>\n",
              "    <path d=\"M18.56 5.44l.94 2.06.94-2.06 2.06-.94-2.06-.94-.94-2.06-.94 2.06-2.06.94zm-11 1L8.5 8.5l.94-2.06 2.06-.94-2.06-.94L8.5 2.5l-.94 2.06-2.06.94zm10 10l.94 2.06.94-2.06 2.06-.94-2.06-.94-.94-2.06-.94 2.06-2.06.94z\"/><path d=\"M17.41 7.96l-1.37-1.37c-.4-.4-.92-.59-1.43-.59-.52 0-1.04.2-1.43.59L10.3 9.45l-7.72 7.72c-.78.78-.78 2.05 0 2.83L4 21.41c.39.39.9.59 1.41.59.51 0 1.02-.2 1.41-.59l7.78-7.78 2.81-2.81c.8-.78.8-2.07 0-2.86zM5.41 20L4 18.59l7.72-7.72 1.47 1.35L5.41 20z\"/>\n",
              "  </svg>\n",
              "      </button>\n",
              "      \n",
              "  <style>\n",
              "    .colab-df-container {\n",
              "      display:flex;\n",
              "      flex-wrap:wrap;\n",
              "      gap: 12px;\n",
              "    }\n",
              "\n",
              "    .colab-df-convert {\n",
              "      background-color: #E8F0FE;\n",
              "      border: none;\n",
              "      border-radius: 50%;\n",
              "      cursor: pointer;\n",
              "      display: none;\n",
              "      fill: #1967D2;\n",
              "      height: 32px;\n",
              "      padding: 0 0 0 0;\n",
              "      width: 32px;\n",
              "    }\n",
              "\n",
              "    .colab-df-convert:hover {\n",
              "      background-color: #E2EBFA;\n",
              "      box-shadow: 0px 1px 2px rgba(60, 64, 67, 0.3), 0px 1px 3px 1px rgba(60, 64, 67, 0.15);\n",
              "      fill: #174EA6;\n",
              "    }\n",
              "\n",
              "    [theme=dark] .colab-df-convert {\n",
              "      background-color: #3B4455;\n",
              "      fill: #D2E3FC;\n",
              "    }\n",
              "\n",
              "    [theme=dark] .colab-df-convert:hover {\n",
              "      background-color: #434B5C;\n",
              "      box-shadow: 0px 1px 3px 1px rgba(0, 0, 0, 0.15);\n",
              "      filter: drop-shadow(0px 1px 2px rgba(0, 0, 0, 0.3));\n",
              "      fill: #FFFFFF;\n",
              "    }\n",
              "  </style>\n",
              "\n",
              "      <script>\n",
              "        const buttonEl =\n",
              "          document.querySelector('#df-dedf7cac-2992-4666-9a7b-9c248d1917a2 button.colab-df-convert');\n",
              "        buttonEl.style.display =\n",
              "          google.colab.kernel.accessAllowed ? 'block' : 'none';\n",
              "\n",
              "        async function convertToInteractive(key) {\n",
              "          const element = document.querySelector('#df-dedf7cac-2992-4666-9a7b-9c248d1917a2');\n",
              "          const dataTable =\n",
              "            await google.colab.kernel.invokeFunction('convertToInteractive',\n",
              "                                                     [key], {});\n",
              "          if (!dataTable) return;\n",
              "\n",
              "          const docLinkHtml = 'Like what you see? Visit the ' +\n",
              "            '<a target=\"_blank\" href=https://colab.research.google.com/notebooks/data_table.ipynb>data table notebook</a>'\n",
              "            + ' to learn more about interactive tables.';\n",
              "          element.innerHTML = '';\n",
              "          dataTable['output_type'] = 'display_data';\n",
              "          await google.colab.output.renderOutput(dataTable, element);\n",
              "          const docLink = document.createElement('div');\n",
              "          docLink.innerHTML = docLinkHtml;\n",
              "          element.appendChild(docLink);\n",
              "        }\n",
              "      </script>\n",
              "    </div>\n",
              "  </div>\n",
              "  "
            ]
          },
          "metadata": {},
          "execution_count": 8
        }
      ]
    },
    {
      "cell_type": "code",
      "source": [
        "df.info()"
      ],
      "metadata": {
        "colab": {
          "base_uri": "https://localhost:8080/"
        },
        "id": "HagAGr2Gdz1u",
        "outputId": "feda1c40-47b1-47eb-e8d2-47f79bbb2d44"
      },
      "execution_count": 9,
      "outputs": [
        {
          "output_type": "stream",
          "name": "stdout",
          "text": [
            "<class 'pandas.core.frame.DataFrame'>\n",
            "RangeIndex: 10841 entries, 0 to 10840\n",
            "Data columns (total 13 columns):\n",
            " #   Column          Non-Null Count  Dtype \n",
            "---  ------          --------------  ----- \n",
            " 0   App             10841 non-null  object\n",
            " 1   Category        10841 non-null  object\n",
            " 2   Rating          9367 non-null   object\n",
            " 3   Reviews         10841 non-null  object\n",
            " 4   Size            10841 non-null  object\n",
            " 5   Installs        10841 non-null  object\n",
            " 6   Type            10840 non-null  object\n",
            " 7   Price           10841 non-null  object\n",
            " 8   Content Rating  10840 non-null  object\n",
            " 9   Genres          10841 non-null  object\n",
            " 10  Last Updated    10841 non-null  object\n",
            " 11  Current Ver     10833 non-null  object\n",
            " 12  Android Ver     10838 non-null  object\n",
            "dtypes: object(13)\n",
            "memory usage: 1.1+ MB\n"
          ]
        }
      ]
    },
    {
      "cell_type": "code",
      "source": [
        "df.shape"
      ],
      "metadata": {
        "colab": {
          "base_uri": "https://localhost:8080/"
        },
        "id": "TSQLx_A8fUF5",
        "outputId": "3cac7bdf-679d-4b43-bb6a-481d4666c2f2"
      },
      "execution_count": 10,
      "outputs": [
        {
          "output_type": "execute_result",
          "data": {
            "text/plain": [
              "(10841, 13)"
            ]
          },
          "metadata": {},
          "execution_count": 10
        }
      ]
    },
    {
      "cell_type": "markdown",
      "source": [
        "## 2. Data Cleaning Phase\n",
        "First of all, we can do some general tidying up of the column names and values.\n",
        "Dataset can contain missing data, numerical string value, various cues. If we can clean them, we can make easy our analysis."
      ],
      "metadata": {
        "id": "u3Kyw3SCfaDg"
      }
    },
    {
      "cell_type": "code",
      "source": [
        "# clean columns names and values\n",
        "\n",
        "def clean_columns(df):\n",
        "    df.columns = df.columns.str.strip().str.lower().str.replace(' ', '_')\n",
        "    \n",
        "clean_columns(df)\n",
        "\n",
        "def clean_vals(df):\n",
        "    for col in df.columns:\n",
        "        df[col] = df[col].str.strip().str.upper().str.replace('\\t|\\n', '', regex=True)\n",
        "     \n",
        "clean_vals(df)"
      ],
      "metadata": {
        "id": "6ydbUUfmfV39"
      },
      "execution_count": 11,
      "outputs": []
    },
    {
      "cell_type": "code",
      "source": [
        "# check\n",
        "\n",
        "df.head()\n"
      ],
      "metadata": {
        "colab": {
          "base_uri": "https://localhost:8080/",
          "height": 389
        },
        "id": "w3_oQkz2fpIe",
        "outputId": "e4cd45c7-5da0-49ca-db47-2ed23b77cde3"
      },
      "execution_count": 12,
      "outputs": [
        {
          "output_type": "execute_result",
          "data": {
            "text/plain": [
              "                                                 app        category rating  \\\n",
              "0     PHOTO EDITOR & CANDY CAMERA & GRID & SCRAPBOOK  ART_AND_DESIGN    4.1   \n",
              "1                                COLORING BOOK MOANA  ART_AND_DESIGN    3.9   \n",
              "2  U LAUNCHER LITE – FREE LIVE COOL THEMES, HIDE ...  ART_AND_DESIGN    4.7   \n",
              "3                              SKETCH - DRAW & PAINT  ART_AND_DESIGN    4.5   \n",
              "4              PIXEL DRAW - NUMBER ART COLORING BOOK  ART_AND_DESIGN    4.3   \n",
              "\n",
              "  reviews  size     installs  type price content_rating  \\\n",
              "0     159   19M      10,000+  FREE     0       EVERYONE   \n",
              "1     967   14M     500,000+  FREE     0       EVERYONE   \n",
              "2   87510  8.7M   5,000,000+  FREE     0       EVERYONE   \n",
              "3  215644   25M  50,000,000+  FREE     0           TEEN   \n",
              "4     967  2.8M     100,000+  FREE     0       EVERYONE   \n",
              "\n",
              "                      genres      last_updated         current_ver  \\\n",
              "0               ART & DESIGN   JANUARY 7, 2018               1.0.0   \n",
              "1  ART & DESIGN;PRETEND PLAY  JANUARY 15, 2018               2.0.0   \n",
              "2               ART & DESIGN    AUGUST 1, 2018               1.2.4   \n",
              "3               ART & DESIGN      JUNE 8, 2018  VARIES WITH DEVICE   \n",
              "4    ART & DESIGN;CREATIVITY     JUNE 20, 2018                 1.1   \n",
              "\n",
              "    android_ver  \n",
              "0  4.0.3 AND UP  \n",
              "1  4.0.3 AND UP  \n",
              "2  4.0.3 AND UP  \n",
              "3    4.2 AND UP  \n",
              "4    4.4 AND UP  "
            ],
            "text/html": [
              "\n",
              "  <div id=\"df-c7ff8ddb-8de6-4083-b6b3-650a4ed2c5f3\">\n",
              "    <div class=\"colab-df-container\">\n",
              "      <div>\n",
              "<style scoped>\n",
              "    .dataframe tbody tr th:only-of-type {\n",
              "        vertical-align: middle;\n",
              "    }\n",
              "\n",
              "    .dataframe tbody tr th {\n",
              "        vertical-align: top;\n",
              "    }\n",
              "\n",
              "    .dataframe thead th {\n",
              "        text-align: right;\n",
              "    }\n",
              "</style>\n",
              "<table border=\"1\" class=\"dataframe\">\n",
              "  <thead>\n",
              "    <tr style=\"text-align: right;\">\n",
              "      <th></th>\n",
              "      <th>app</th>\n",
              "      <th>category</th>\n",
              "      <th>rating</th>\n",
              "      <th>reviews</th>\n",
              "      <th>size</th>\n",
              "      <th>installs</th>\n",
              "      <th>type</th>\n",
              "      <th>price</th>\n",
              "      <th>content_rating</th>\n",
              "      <th>genres</th>\n",
              "      <th>last_updated</th>\n",
              "      <th>current_ver</th>\n",
              "      <th>android_ver</th>\n",
              "    </tr>\n",
              "  </thead>\n",
              "  <tbody>\n",
              "    <tr>\n",
              "      <th>0</th>\n",
              "      <td>PHOTO EDITOR &amp; CANDY CAMERA &amp; GRID &amp; SCRAPBOOK</td>\n",
              "      <td>ART_AND_DESIGN</td>\n",
              "      <td>4.1</td>\n",
              "      <td>159</td>\n",
              "      <td>19M</td>\n",
              "      <td>10,000+</td>\n",
              "      <td>FREE</td>\n",
              "      <td>0</td>\n",
              "      <td>EVERYONE</td>\n",
              "      <td>ART &amp; DESIGN</td>\n",
              "      <td>JANUARY 7, 2018</td>\n",
              "      <td>1.0.0</td>\n",
              "      <td>4.0.3 AND UP</td>\n",
              "    </tr>\n",
              "    <tr>\n",
              "      <th>1</th>\n",
              "      <td>COLORING BOOK MOANA</td>\n",
              "      <td>ART_AND_DESIGN</td>\n",
              "      <td>3.9</td>\n",
              "      <td>967</td>\n",
              "      <td>14M</td>\n",
              "      <td>500,000+</td>\n",
              "      <td>FREE</td>\n",
              "      <td>0</td>\n",
              "      <td>EVERYONE</td>\n",
              "      <td>ART &amp; DESIGN;PRETEND PLAY</td>\n",
              "      <td>JANUARY 15, 2018</td>\n",
              "      <td>2.0.0</td>\n",
              "      <td>4.0.3 AND UP</td>\n",
              "    </tr>\n",
              "    <tr>\n",
              "      <th>2</th>\n",
              "      <td>U LAUNCHER LITE – FREE LIVE COOL THEMES, HIDE ...</td>\n",
              "      <td>ART_AND_DESIGN</td>\n",
              "      <td>4.7</td>\n",
              "      <td>87510</td>\n",
              "      <td>8.7M</td>\n",
              "      <td>5,000,000+</td>\n",
              "      <td>FREE</td>\n",
              "      <td>0</td>\n",
              "      <td>EVERYONE</td>\n",
              "      <td>ART &amp; DESIGN</td>\n",
              "      <td>AUGUST 1, 2018</td>\n",
              "      <td>1.2.4</td>\n",
              "      <td>4.0.3 AND UP</td>\n",
              "    </tr>\n",
              "    <tr>\n",
              "      <th>3</th>\n",
              "      <td>SKETCH - DRAW &amp; PAINT</td>\n",
              "      <td>ART_AND_DESIGN</td>\n",
              "      <td>4.5</td>\n",
              "      <td>215644</td>\n",
              "      <td>25M</td>\n",
              "      <td>50,000,000+</td>\n",
              "      <td>FREE</td>\n",
              "      <td>0</td>\n",
              "      <td>TEEN</td>\n",
              "      <td>ART &amp; DESIGN</td>\n",
              "      <td>JUNE 8, 2018</td>\n",
              "      <td>VARIES WITH DEVICE</td>\n",
              "      <td>4.2 AND UP</td>\n",
              "    </tr>\n",
              "    <tr>\n",
              "      <th>4</th>\n",
              "      <td>PIXEL DRAW - NUMBER ART COLORING BOOK</td>\n",
              "      <td>ART_AND_DESIGN</td>\n",
              "      <td>4.3</td>\n",
              "      <td>967</td>\n",
              "      <td>2.8M</td>\n",
              "      <td>100,000+</td>\n",
              "      <td>FREE</td>\n",
              "      <td>0</td>\n",
              "      <td>EVERYONE</td>\n",
              "      <td>ART &amp; DESIGN;CREATIVITY</td>\n",
              "      <td>JUNE 20, 2018</td>\n",
              "      <td>1.1</td>\n",
              "      <td>4.4 AND UP</td>\n",
              "    </tr>\n",
              "  </tbody>\n",
              "</table>\n",
              "</div>\n",
              "      <button class=\"colab-df-convert\" onclick=\"convertToInteractive('df-c7ff8ddb-8de6-4083-b6b3-650a4ed2c5f3')\"\n",
              "              title=\"Convert this dataframe to an interactive table.\"\n",
              "              style=\"display:none;\">\n",
              "        \n",
              "  <svg xmlns=\"http://www.w3.org/2000/svg\" height=\"24px\"viewBox=\"0 0 24 24\"\n",
              "       width=\"24px\">\n",
              "    <path d=\"M0 0h24v24H0V0z\" fill=\"none\"/>\n",
              "    <path d=\"M18.56 5.44l.94 2.06.94-2.06 2.06-.94-2.06-.94-.94-2.06-.94 2.06-2.06.94zm-11 1L8.5 8.5l.94-2.06 2.06-.94-2.06-.94L8.5 2.5l-.94 2.06-2.06.94zm10 10l.94 2.06.94-2.06 2.06-.94-2.06-.94-.94-2.06-.94 2.06-2.06.94z\"/><path d=\"M17.41 7.96l-1.37-1.37c-.4-.4-.92-.59-1.43-.59-.52 0-1.04.2-1.43.59L10.3 9.45l-7.72 7.72c-.78.78-.78 2.05 0 2.83L4 21.41c.39.39.9.59 1.41.59.51 0 1.02-.2 1.41-.59l7.78-7.78 2.81-2.81c.8-.78.8-2.07 0-2.86zM5.41 20L4 18.59l7.72-7.72 1.47 1.35L5.41 20z\"/>\n",
              "  </svg>\n",
              "      </button>\n",
              "      \n",
              "  <style>\n",
              "    .colab-df-container {\n",
              "      display:flex;\n",
              "      flex-wrap:wrap;\n",
              "      gap: 12px;\n",
              "    }\n",
              "\n",
              "    .colab-df-convert {\n",
              "      background-color: #E8F0FE;\n",
              "      border: none;\n",
              "      border-radius: 50%;\n",
              "      cursor: pointer;\n",
              "      display: none;\n",
              "      fill: #1967D2;\n",
              "      height: 32px;\n",
              "      padding: 0 0 0 0;\n",
              "      width: 32px;\n",
              "    }\n",
              "\n",
              "    .colab-df-convert:hover {\n",
              "      background-color: #E2EBFA;\n",
              "      box-shadow: 0px 1px 2px rgba(60, 64, 67, 0.3), 0px 1px 3px 1px rgba(60, 64, 67, 0.15);\n",
              "      fill: #174EA6;\n",
              "    }\n",
              "\n",
              "    [theme=dark] .colab-df-convert {\n",
              "      background-color: #3B4455;\n",
              "      fill: #D2E3FC;\n",
              "    }\n",
              "\n",
              "    [theme=dark] .colab-df-convert:hover {\n",
              "      background-color: #434B5C;\n",
              "      box-shadow: 0px 1px 3px 1px rgba(0, 0, 0, 0.15);\n",
              "      filter: drop-shadow(0px 1px 2px rgba(0, 0, 0, 0.3));\n",
              "      fill: #FFFFFF;\n",
              "    }\n",
              "  </style>\n",
              "\n",
              "      <script>\n",
              "        const buttonEl =\n",
              "          document.querySelector('#df-c7ff8ddb-8de6-4083-b6b3-650a4ed2c5f3 button.colab-df-convert');\n",
              "        buttonEl.style.display =\n",
              "          google.colab.kernel.accessAllowed ? 'block' : 'none';\n",
              "\n",
              "        async function convertToInteractive(key) {\n",
              "          const element = document.querySelector('#df-c7ff8ddb-8de6-4083-b6b3-650a4ed2c5f3');\n",
              "          const dataTable =\n",
              "            await google.colab.kernel.invokeFunction('convertToInteractive',\n",
              "                                                     [key], {});\n",
              "          if (!dataTable) return;\n",
              "\n",
              "          const docLinkHtml = 'Like what you see? Visit the ' +\n",
              "            '<a target=\"_blank\" href=https://colab.research.google.com/notebooks/data_table.ipynb>data table notebook</a>'\n",
              "            + ' to learn more about interactive tables.';\n",
              "          element.innerHTML = '';\n",
              "          dataTable['output_type'] = 'display_data';\n",
              "          await google.colab.output.renderOutput(dataTable, element);\n",
              "          const docLink = document.createElement('div');\n",
              "          docLink.innerHTML = docLinkHtml;\n",
              "          element.appendChild(docLink);\n",
              "        }\n",
              "      </script>\n",
              "    </div>\n",
              "  </div>\n",
              "  "
            ]
          },
          "metadata": {},
          "execution_count": 12
        }
      ]
    },
    {
      "cell_type": "markdown",
      "source": [
        "## Size\n",
        "We will need to see what letters there are in the size column so that we can normalize the data.\n",
        "\n",
        "We know that 1 MB is equal to 1024 KB."
      ],
      "metadata": {
        "id": "8-j9dFV_sbD-"
      }
    },
    {
      "cell_type": "code",
      "source": [
        "print(df['size'].str.replace('\\d+', '').unique())"
      ],
      "metadata": {
        "id": "cdr9cgJzsfnL",
        "colab": {
          "base_uri": "https://localhost:8080/"
        },
        "outputId": "277f39ce-35b4-4d96-bb54-3d6eb4b195aa"
      },
      "execution_count": 13,
      "outputs": [
        {
          "output_type": "stream",
          "name": "stdout",
          "text": [
            "['M' '.M' 'VARIES WITH DEVICE' 'K' '.K' ',+']\n"
          ]
        },
        {
          "output_type": "stream",
          "name": "stderr",
          "text": [
            "/usr/local/lib/python3.7/dist-packages/ipykernel_launcher.py:1: FutureWarning: The default value of regex will change from True to False in a future version.\n",
            "  \"\"\"Entry point for launching an IPython kernel.\n"
          ]
        }
      ]
    },
    {
      "cell_type": "markdown",
      "source": [
        "*From the code above, we can see that we have our size data in the form of megabytes, kilobytes and unknown*\n",
        "\n",
        "\n",
        "\n"
      ],
      "metadata": {
        "id": "IBv4dlbMvBLV"
      }
    },
    {
      "cell_type": "code",
      "source": [
        "df.loc[df['size'].str.contains('M'),].head()"
      ],
      "metadata": {
        "colab": {
          "base_uri": "https://localhost:8080/",
          "height": 389
        },
        "id": "C_jnjIXevBw1",
        "outputId": "dd6be6f4-5f15-4b4f-dd0f-3a69b13bc40d"
      },
      "execution_count": 14,
      "outputs": [
        {
          "output_type": "execute_result",
          "data": {
            "text/plain": [
              "                                                 app        category rating  \\\n",
              "0     PHOTO EDITOR & CANDY CAMERA & GRID & SCRAPBOOK  ART_AND_DESIGN    4.1   \n",
              "1                                COLORING BOOK MOANA  ART_AND_DESIGN    3.9   \n",
              "2  U LAUNCHER LITE – FREE LIVE COOL THEMES, HIDE ...  ART_AND_DESIGN    4.7   \n",
              "3                              SKETCH - DRAW & PAINT  ART_AND_DESIGN    4.5   \n",
              "4              PIXEL DRAW - NUMBER ART COLORING BOOK  ART_AND_DESIGN    4.3   \n",
              "\n",
              "  reviews  size     installs  type price content_rating  \\\n",
              "0     159   19M      10,000+  FREE     0       EVERYONE   \n",
              "1     967   14M     500,000+  FREE     0       EVERYONE   \n",
              "2   87510  8.7M   5,000,000+  FREE     0       EVERYONE   \n",
              "3  215644   25M  50,000,000+  FREE     0           TEEN   \n",
              "4     967  2.8M     100,000+  FREE     0       EVERYONE   \n",
              "\n",
              "                      genres      last_updated         current_ver  \\\n",
              "0               ART & DESIGN   JANUARY 7, 2018               1.0.0   \n",
              "1  ART & DESIGN;PRETEND PLAY  JANUARY 15, 2018               2.0.0   \n",
              "2               ART & DESIGN    AUGUST 1, 2018               1.2.4   \n",
              "3               ART & DESIGN      JUNE 8, 2018  VARIES WITH DEVICE   \n",
              "4    ART & DESIGN;CREATIVITY     JUNE 20, 2018                 1.1   \n",
              "\n",
              "    android_ver  \n",
              "0  4.0.3 AND UP  \n",
              "1  4.0.3 AND UP  \n",
              "2  4.0.3 AND UP  \n",
              "3    4.2 AND UP  \n",
              "4    4.4 AND UP  "
            ],
            "text/html": [
              "\n",
              "  <div id=\"df-13957f1c-3ec5-4135-ae80-1afc804b455e\">\n",
              "    <div class=\"colab-df-container\">\n",
              "      <div>\n",
              "<style scoped>\n",
              "    .dataframe tbody tr th:only-of-type {\n",
              "        vertical-align: middle;\n",
              "    }\n",
              "\n",
              "    .dataframe tbody tr th {\n",
              "        vertical-align: top;\n",
              "    }\n",
              "\n",
              "    .dataframe thead th {\n",
              "        text-align: right;\n",
              "    }\n",
              "</style>\n",
              "<table border=\"1\" class=\"dataframe\">\n",
              "  <thead>\n",
              "    <tr style=\"text-align: right;\">\n",
              "      <th></th>\n",
              "      <th>app</th>\n",
              "      <th>category</th>\n",
              "      <th>rating</th>\n",
              "      <th>reviews</th>\n",
              "      <th>size</th>\n",
              "      <th>installs</th>\n",
              "      <th>type</th>\n",
              "      <th>price</th>\n",
              "      <th>content_rating</th>\n",
              "      <th>genres</th>\n",
              "      <th>last_updated</th>\n",
              "      <th>current_ver</th>\n",
              "      <th>android_ver</th>\n",
              "    </tr>\n",
              "  </thead>\n",
              "  <tbody>\n",
              "    <tr>\n",
              "      <th>0</th>\n",
              "      <td>PHOTO EDITOR &amp; CANDY CAMERA &amp; GRID &amp; SCRAPBOOK</td>\n",
              "      <td>ART_AND_DESIGN</td>\n",
              "      <td>4.1</td>\n",
              "      <td>159</td>\n",
              "      <td>19M</td>\n",
              "      <td>10,000+</td>\n",
              "      <td>FREE</td>\n",
              "      <td>0</td>\n",
              "      <td>EVERYONE</td>\n",
              "      <td>ART &amp; DESIGN</td>\n",
              "      <td>JANUARY 7, 2018</td>\n",
              "      <td>1.0.0</td>\n",
              "      <td>4.0.3 AND UP</td>\n",
              "    </tr>\n",
              "    <tr>\n",
              "      <th>1</th>\n",
              "      <td>COLORING BOOK MOANA</td>\n",
              "      <td>ART_AND_DESIGN</td>\n",
              "      <td>3.9</td>\n",
              "      <td>967</td>\n",
              "      <td>14M</td>\n",
              "      <td>500,000+</td>\n",
              "      <td>FREE</td>\n",
              "      <td>0</td>\n",
              "      <td>EVERYONE</td>\n",
              "      <td>ART &amp; DESIGN;PRETEND PLAY</td>\n",
              "      <td>JANUARY 15, 2018</td>\n",
              "      <td>2.0.0</td>\n",
              "      <td>4.0.3 AND UP</td>\n",
              "    </tr>\n",
              "    <tr>\n",
              "      <th>2</th>\n",
              "      <td>U LAUNCHER LITE – FREE LIVE COOL THEMES, HIDE ...</td>\n",
              "      <td>ART_AND_DESIGN</td>\n",
              "      <td>4.7</td>\n",
              "      <td>87510</td>\n",
              "      <td>8.7M</td>\n",
              "      <td>5,000,000+</td>\n",
              "      <td>FREE</td>\n",
              "      <td>0</td>\n",
              "      <td>EVERYONE</td>\n",
              "      <td>ART &amp; DESIGN</td>\n",
              "      <td>AUGUST 1, 2018</td>\n",
              "      <td>1.2.4</td>\n",
              "      <td>4.0.3 AND UP</td>\n",
              "    </tr>\n",
              "    <tr>\n",
              "      <th>3</th>\n",
              "      <td>SKETCH - DRAW &amp; PAINT</td>\n",
              "      <td>ART_AND_DESIGN</td>\n",
              "      <td>4.5</td>\n",
              "      <td>215644</td>\n",
              "      <td>25M</td>\n",
              "      <td>50,000,000+</td>\n",
              "      <td>FREE</td>\n",
              "      <td>0</td>\n",
              "      <td>TEEN</td>\n",
              "      <td>ART &amp; DESIGN</td>\n",
              "      <td>JUNE 8, 2018</td>\n",
              "      <td>VARIES WITH DEVICE</td>\n",
              "      <td>4.2 AND UP</td>\n",
              "    </tr>\n",
              "    <tr>\n",
              "      <th>4</th>\n",
              "      <td>PIXEL DRAW - NUMBER ART COLORING BOOK</td>\n",
              "      <td>ART_AND_DESIGN</td>\n",
              "      <td>4.3</td>\n",
              "      <td>967</td>\n",
              "      <td>2.8M</td>\n",
              "      <td>100,000+</td>\n",
              "      <td>FREE</td>\n",
              "      <td>0</td>\n",
              "      <td>EVERYONE</td>\n",
              "      <td>ART &amp; DESIGN;CREATIVITY</td>\n",
              "      <td>JUNE 20, 2018</td>\n",
              "      <td>1.1</td>\n",
              "      <td>4.4 AND UP</td>\n",
              "    </tr>\n",
              "  </tbody>\n",
              "</table>\n",
              "</div>\n",
              "      <button class=\"colab-df-convert\" onclick=\"convertToInteractive('df-13957f1c-3ec5-4135-ae80-1afc804b455e')\"\n",
              "              title=\"Convert this dataframe to an interactive table.\"\n",
              "              style=\"display:none;\">\n",
              "        \n",
              "  <svg xmlns=\"http://www.w3.org/2000/svg\" height=\"24px\"viewBox=\"0 0 24 24\"\n",
              "       width=\"24px\">\n",
              "    <path d=\"M0 0h24v24H0V0z\" fill=\"none\"/>\n",
              "    <path d=\"M18.56 5.44l.94 2.06.94-2.06 2.06-.94-2.06-.94-.94-2.06-.94 2.06-2.06.94zm-11 1L8.5 8.5l.94-2.06 2.06-.94-2.06-.94L8.5 2.5l-.94 2.06-2.06.94zm10 10l.94 2.06.94-2.06 2.06-.94-2.06-.94-.94-2.06-.94 2.06-2.06.94z\"/><path d=\"M17.41 7.96l-1.37-1.37c-.4-.4-.92-.59-1.43-.59-.52 0-1.04.2-1.43.59L10.3 9.45l-7.72 7.72c-.78.78-.78 2.05 0 2.83L4 21.41c.39.39.9.59 1.41.59.51 0 1.02-.2 1.41-.59l7.78-7.78 2.81-2.81c.8-.78.8-2.07 0-2.86zM5.41 20L4 18.59l7.72-7.72 1.47 1.35L5.41 20z\"/>\n",
              "  </svg>\n",
              "      </button>\n",
              "      \n",
              "  <style>\n",
              "    .colab-df-container {\n",
              "      display:flex;\n",
              "      flex-wrap:wrap;\n",
              "      gap: 12px;\n",
              "    }\n",
              "\n",
              "    .colab-df-convert {\n",
              "      background-color: #E8F0FE;\n",
              "      border: none;\n",
              "      border-radius: 50%;\n",
              "      cursor: pointer;\n",
              "      display: none;\n",
              "      fill: #1967D2;\n",
              "      height: 32px;\n",
              "      padding: 0 0 0 0;\n",
              "      width: 32px;\n",
              "    }\n",
              "\n",
              "    .colab-df-convert:hover {\n",
              "      background-color: #E2EBFA;\n",
              "      box-shadow: 0px 1px 2px rgba(60, 64, 67, 0.3), 0px 1px 3px 1px rgba(60, 64, 67, 0.15);\n",
              "      fill: #174EA6;\n",
              "    }\n",
              "\n",
              "    [theme=dark] .colab-df-convert {\n",
              "      background-color: #3B4455;\n",
              "      fill: #D2E3FC;\n",
              "    }\n",
              "\n",
              "    [theme=dark] .colab-df-convert:hover {\n",
              "      background-color: #434B5C;\n",
              "      box-shadow: 0px 1px 3px 1px rgba(0, 0, 0, 0.15);\n",
              "      filter: drop-shadow(0px 1px 2px rgba(0, 0, 0, 0.3));\n",
              "      fill: #FFFFFF;\n",
              "    }\n",
              "  </style>\n",
              "\n",
              "      <script>\n",
              "        const buttonEl =\n",
              "          document.querySelector('#df-13957f1c-3ec5-4135-ae80-1afc804b455e button.colab-df-convert');\n",
              "        buttonEl.style.display =\n",
              "          google.colab.kernel.accessAllowed ? 'block' : 'none';\n",
              "\n",
              "        async function convertToInteractive(key) {\n",
              "          const element = document.querySelector('#df-13957f1c-3ec5-4135-ae80-1afc804b455e');\n",
              "          const dataTable =\n",
              "            await google.colab.kernel.invokeFunction('convertToInteractive',\n",
              "                                                     [key], {});\n",
              "          if (!dataTable) return;\n",
              "\n",
              "          const docLinkHtml = 'Like what you see? Visit the ' +\n",
              "            '<a target=\"_blank\" href=https://colab.research.google.com/notebooks/data_table.ipynb>data table notebook</a>'\n",
              "            + ' to learn more about interactive tables.';\n",
              "          element.innerHTML = '';\n",
              "          dataTable['output_type'] = 'display_data';\n",
              "          await google.colab.output.renderOutput(dataTable, element);\n",
              "          const docLink = document.createElement('div');\n",
              "          docLink.innerHTML = docLinkHtml;\n",
              "          element.appendChild(docLink);\n",
              "        }\n",
              "      </script>\n",
              "    </div>\n",
              "  </div>\n",
              "  "
            ]
          },
          "metadata": {},
          "execution_count": 14
        }
      ]
    },
    {
      "cell_type": "code",
      "source": [
        "# Now we will converting mb data to kb data\n",
        "\n",
        "def convert_mb_kb(df):\n",
        "    df.loc[df['size'].str.contains('M'),'size'] = df.loc[df['size'].str.contains('M'),'size'].str.rstrip('M').astype(float) * 1024\n",
        "\n",
        "convert_mb_kb(df)"
      ],
      "metadata": {
        "id": "lcGEBy9svK4o"
      },
      "execution_count": 15,
      "outputs": []
    },
    {
      "cell_type": "code",
      "source": [
        "df.head()"
      ],
      "metadata": {
        "colab": {
          "base_uri": "https://localhost:8080/",
          "height": 389
        },
        "id": "gOsbUhsLvUSu",
        "outputId": "a4f1a89d-e7cb-494b-aeef-65716dd250fa"
      },
      "execution_count": 16,
      "outputs": [
        {
          "output_type": "execute_result",
          "data": {
            "text/plain": [
              "                                                 app        category rating  \\\n",
              "0     PHOTO EDITOR & CANDY CAMERA & GRID & SCRAPBOOK  ART_AND_DESIGN    4.1   \n",
              "1                                COLORING BOOK MOANA  ART_AND_DESIGN    3.9   \n",
              "2  U LAUNCHER LITE – FREE LIVE COOL THEMES, HIDE ...  ART_AND_DESIGN    4.7   \n",
              "3                              SKETCH - DRAW & PAINT  ART_AND_DESIGN    4.5   \n",
              "4              PIXEL DRAW - NUMBER ART COLORING BOOK  ART_AND_DESIGN    4.3   \n",
              "\n",
              "  reviews     size     installs  type price content_rating  \\\n",
              "0     159  19456.0      10,000+  FREE     0       EVERYONE   \n",
              "1     967  14336.0     500,000+  FREE     0       EVERYONE   \n",
              "2   87510   8908.8   5,000,000+  FREE     0       EVERYONE   \n",
              "3  215644  25600.0  50,000,000+  FREE     0           TEEN   \n",
              "4     967   2867.2     100,000+  FREE     0       EVERYONE   \n",
              "\n",
              "                      genres      last_updated         current_ver  \\\n",
              "0               ART & DESIGN   JANUARY 7, 2018               1.0.0   \n",
              "1  ART & DESIGN;PRETEND PLAY  JANUARY 15, 2018               2.0.0   \n",
              "2               ART & DESIGN    AUGUST 1, 2018               1.2.4   \n",
              "3               ART & DESIGN      JUNE 8, 2018  VARIES WITH DEVICE   \n",
              "4    ART & DESIGN;CREATIVITY     JUNE 20, 2018                 1.1   \n",
              "\n",
              "    android_ver  \n",
              "0  4.0.3 AND UP  \n",
              "1  4.0.3 AND UP  \n",
              "2  4.0.3 AND UP  \n",
              "3    4.2 AND UP  \n",
              "4    4.4 AND UP  "
            ],
            "text/html": [
              "\n",
              "  <div id=\"df-e7d78198-1f0d-4348-b77c-77652b3e3fa2\">\n",
              "    <div class=\"colab-df-container\">\n",
              "      <div>\n",
              "<style scoped>\n",
              "    .dataframe tbody tr th:only-of-type {\n",
              "        vertical-align: middle;\n",
              "    }\n",
              "\n",
              "    .dataframe tbody tr th {\n",
              "        vertical-align: top;\n",
              "    }\n",
              "\n",
              "    .dataframe thead th {\n",
              "        text-align: right;\n",
              "    }\n",
              "</style>\n",
              "<table border=\"1\" class=\"dataframe\">\n",
              "  <thead>\n",
              "    <tr style=\"text-align: right;\">\n",
              "      <th></th>\n",
              "      <th>app</th>\n",
              "      <th>category</th>\n",
              "      <th>rating</th>\n",
              "      <th>reviews</th>\n",
              "      <th>size</th>\n",
              "      <th>installs</th>\n",
              "      <th>type</th>\n",
              "      <th>price</th>\n",
              "      <th>content_rating</th>\n",
              "      <th>genres</th>\n",
              "      <th>last_updated</th>\n",
              "      <th>current_ver</th>\n",
              "      <th>android_ver</th>\n",
              "    </tr>\n",
              "  </thead>\n",
              "  <tbody>\n",
              "    <tr>\n",
              "      <th>0</th>\n",
              "      <td>PHOTO EDITOR &amp; CANDY CAMERA &amp; GRID &amp; SCRAPBOOK</td>\n",
              "      <td>ART_AND_DESIGN</td>\n",
              "      <td>4.1</td>\n",
              "      <td>159</td>\n",
              "      <td>19456.0</td>\n",
              "      <td>10,000+</td>\n",
              "      <td>FREE</td>\n",
              "      <td>0</td>\n",
              "      <td>EVERYONE</td>\n",
              "      <td>ART &amp; DESIGN</td>\n",
              "      <td>JANUARY 7, 2018</td>\n",
              "      <td>1.0.0</td>\n",
              "      <td>4.0.3 AND UP</td>\n",
              "    </tr>\n",
              "    <tr>\n",
              "      <th>1</th>\n",
              "      <td>COLORING BOOK MOANA</td>\n",
              "      <td>ART_AND_DESIGN</td>\n",
              "      <td>3.9</td>\n",
              "      <td>967</td>\n",
              "      <td>14336.0</td>\n",
              "      <td>500,000+</td>\n",
              "      <td>FREE</td>\n",
              "      <td>0</td>\n",
              "      <td>EVERYONE</td>\n",
              "      <td>ART &amp; DESIGN;PRETEND PLAY</td>\n",
              "      <td>JANUARY 15, 2018</td>\n",
              "      <td>2.0.0</td>\n",
              "      <td>4.0.3 AND UP</td>\n",
              "    </tr>\n",
              "    <tr>\n",
              "      <th>2</th>\n",
              "      <td>U LAUNCHER LITE – FREE LIVE COOL THEMES, HIDE ...</td>\n",
              "      <td>ART_AND_DESIGN</td>\n",
              "      <td>4.7</td>\n",
              "      <td>87510</td>\n",
              "      <td>8908.8</td>\n",
              "      <td>5,000,000+</td>\n",
              "      <td>FREE</td>\n",
              "      <td>0</td>\n",
              "      <td>EVERYONE</td>\n",
              "      <td>ART &amp; DESIGN</td>\n",
              "      <td>AUGUST 1, 2018</td>\n",
              "      <td>1.2.4</td>\n",
              "      <td>4.0.3 AND UP</td>\n",
              "    </tr>\n",
              "    <tr>\n",
              "      <th>3</th>\n",
              "      <td>SKETCH - DRAW &amp; PAINT</td>\n",
              "      <td>ART_AND_DESIGN</td>\n",
              "      <td>4.5</td>\n",
              "      <td>215644</td>\n",
              "      <td>25600.0</td>\n",
              "      <td>50,000,000+</td>\n",
              "      <td>FREE</td>\n",
              "      <td>0</td>\n",
              "      <td>TEEN</td>\n",
              "      <td>ART &amp; DESIGN</td>\n",
              "      <td>JUNE 8, 2018</td>\n",
              "      <td>VARIES WITH DEVICE</td>\n",
              "      <td>4.2 AND UP</td>\n",
              "    </tr>\n",
              "    <tr>\n",
              "      <th>4</th>\n",
              "      <td>PIXEL DRAW - NUMBER ART COLORING BOOK</td>\n",
              "      <td>ART_AND_DESIGN</td>\n",
              "      <td>4.3</td>\n",
              "      <td>967</td>\n",
              "      <td>2867.2</td>\n",
              "      <td>100,000+</td>\n",
              "      <td>FREE</td>\n",
              "      <td>0</td>\n",
              "      <td>EVERYONE</td>\n",
              "      <td>ART &amp; DESIGN;CREATIVITY</td>\n",
              "      <td>JUNE 20, 2018</td>\n",
              "      <td>1.1</td>\n",
              "      <td>4.4 AND UP</td>\n",
              "    </tr>\n",
              "  </tbody>\n",
              "</table>\n",
              "</div>\n",
              "      <button class=\"colab-df-convert\" onclick=\"convertToInteractive('df-e7d78198-1f0d-4348-b77c-77652b3e3fa2')\"\n",
              "              title=\"Convert this dataframe to an interactive table.\"\n",
              "              style=\"display:none;\">\n",
              "        \n",
              "  <svg xmlns=\"http://www.w3.org/2000/svg\" height=\"24px\"viewBox=\"0 0 24 24\"\n",
              "       width=\"24px\">\n",
              "    <path d=\"M0 0h24v24H0V0z\" fill=\"none\"/>\n",
              "    <path d=\"M18.56 5.44l.94 2.06.94-2.06 2.06-.94-2.06-.94-.94-2.06-.94 2.06-2.06.94zm-11 1L8.5 8.5l.94-2.06 2.06-.94-2.06-.94L8.5 2.5l-.94 2.06-2.06.94zm10 10l.94 2.06.94-2.06 2.06-.94-2.06-.94-.94-2.06-.94 2.06-2.06.94z\"/><path d=\"M17.41 7.96l-1.37-1.37c-.4-.4-.92-.59-1.43-.59-.52 0-1.04.2-1.43.59L10.3 9.45l-7.72 7.72c-.78.78-.78 2.05 0 2.83L4 21.41c.39.39.9.59 1.41.59.51 0 1.02-.2 1.41-.59l7.78-7.78 2.81-2.81c.8-.78.8-2.07 0-2.86zM5.41 20L4 18.59l7.72-7.72 1.47 1.35L5.41 20z\"/>\n",
              "  </svg>\n",
              "      </button>\n",
              "      \n",
              "  <style>\n",
              "    .colab-df-container {\n",
              "      display:flex;\n",
              "      flex-wrap:wrap;\n",
              "      gap: 12px;\n",
              "    }\n",
              "\n",
              "    .colab-df-convert {\n",
              "      background-color: #E8F0FE;\n",
              "      border: none;\n",
              "      border-radius: 50%;\n",
              "      cursor: pointer;\n",
              "      display: none;\n",
              "      fill: #1967D2;\n",
              "      height: 32px;\n",
              "      padding: 0 0 0 0;\n",
              "      width: 32px;\n",
              "    }\n",
              "\n",
              "    .colab-df-convert:hover {\n",
              "      background-color: #E2EBFA;\n",
              "      box-shadow: 0px 1px 2px rgba(60, 64, 67, 0.3), 0px 1px 3px 1px rgba(60, 64, 67, 0.15);\n",
              "      fill: #174EA6;\n",
              "    }\n",
              "\n",
              "    [theme=dark] .colab-df-convert {\n",
              "      background-color: #3B4455;\n",
              "      fill: #D2E3FC;\n",
              "    }\n",
              "\n",
              "    [theme=dark] .colab-df-convert:hover {\n",
              "      background-color: #434B5C;\n",
              "      box-shadow: 0px 1px 3px 1px rgba(0, 0, 0, 0.15);\n",
              "      filter: drop-shadow(0px 1px 2px rgba(0, 0, 0, 0.3));\n",
              "      fill: #FFFFFF;\n",
              "    }\n",
              "  </style>\n",
              "\n",
              "      <script>\n",
              "        const buttonEl =\n",
              "          document.querySelector('#df-e7d78198-1f0d-4348-b77c-77652b3e3fa2 button.colab-df-convert');\n",
              "        buttonEl.style.display =\n",
              "          google.colab.kernel.accessAllowed ? 'block' : 'none';\n",
              "\n",
              "        async function convertToInteractive(key) {\n",
              "          const element = document.querySelector('#df-e7d78198-1f0d-4348-b77c-77652b3e3fa2');\n",
              "          const dataTable =\n",
              "            await google.colab.kernel.invokeFunction('convertToInteractive',\n",
              "                                                     [key], {});\n",
              "          if (!dataTable) return;\n",
              "\n",
              "          const docLinkHtml = 'Like what you see? Visit the ' +\n",
              "            '<a target=\"_blank\" href=https://colab.research.google.com/notebooks/data_table.ipynb>data table notebook</a>'\n",
              "            + ' to learn more about interactive tables.';\n",
              "          element.innerHTML = '';\n",
              "          dataTable['output_type'] = 'display_data';\n",
              "          await google.colab.output.renderOutput(dataTable, element);\n",
              "          const docLink = document.createElement('div');\n",
              "          docLink.innerHTML = docLinkHtml;\n",
              "          element.appendChild(docLink);\n",
              "        }\n",
              "      </script>\n",
              "    </div>\n",
              "  </div>\n",
              "  "
            ]
          },
          "metadata": {},
          "execution_count": 16
        }
      ]
    },
    {
      "cell_type": "code",
      "source": [
        "# NOw we will see our unique letters  present in dataset\n",
        "\n",
        "print(df['size'].astype(str).str.replace('\\d+', '').unique())"
      ],
      "metadata": {
        "colab": {
          "base_uri": "https://localhost:8080/"
        },
        "id": "SjrGiJ2hvsT4",
        "outputId": "a5af7223-927c-43b9-c0ef-6c3f2faf745f"
      },
      "execution_count": 17,
      "outputs": [
        {
          "output_type": "stream",
          "name": "stdout",
          "text": [
            "['.' 'VARIES WITH DEVICE' 'K' '.K' ',+']\n"
          ]
        },
        {
          "output_type": "stream",
          "name": "stderr",
          "text": [
            "/usr/local/lib/python3.7/dist-packages/ipykernel_launcher.py:3: FutureWarning: The default value of regex will change from True to False in a future version.\n",
            "  This is separate from the ipykernel package so we can avoid doing imports until\n"
          ]
        }
      ]
    },
    {
      "cell_type": "markdown",
      "source": [
        "*Now we can simply remove the K and change the size column to say \"size (in kb)\" for clarity,*"
      ],
      "metadata": {
        "id": "IfM8W40QwCNf"
      }
    },
    {
      "cell_type": "code",
      "source": [
        "df.loc[df['size'].astype(str).str.contains('K'), 'size'] = df.loc[df['size'].astype(str).str.contains('K'), 'size'].str.replace('K', '')"
      ],
      "metadata": {
        "id": "NamCR1OQv0Sk"
      },
      "execution_count": 18,
      "outputs": []
    },
    {
      "cell_type": "code",
      "source": [
        "# we can see that there are now no more values containing the letter K\n",
        "\n",
        "df.loc[df['size'].astype(str).str.contains('K'), 'size']"
      ],
      "metadata": {
        "colab": {
          "base_uri": "https://localhost:8080/"
        },
        "id": "v6UfzFQpwKoy",
        "outputId": "e6570f13-a3a2-4822-c4e6-c1ae39482bfc"
      },
      "execution_count": 19,
      "outputs": [
        {
          "output_type": "execute_result",
          "data": {
            "text/plain": [
              "Series([], Name: size, dtype: object)"
            ]
          },
          "metadata": {},
          "execution_count": 19
        }
      ]
    },
    {
      "cell_type": "code",
      "source": [
        "# now we will add and clarify to the size column\n",
        "\n",
        "df.rename(columns = {'size': 'size(kb)'}, inplace=True)"
      ],
      "metadata": {
        "id": "k2ES3E65wRlO"
      },
      "execution_count": 20,
      "outputs": []
    },
    {
      "cell_type": "code",
      "source": [
        "# cross check\n",
        "\n",
        "df.columns"
      ],
      "metadata": {
        "colab": {
          "base_uri": "https://localhost:8080/"
        },
        "id": "ZG2rinoXwZK6",
        "outputId": "30f7e8d2-eb7b-472f-c890-4aad0996d98e"
      },
      "execution_count": 21,
      "outputs": [
        {
          "output_type": "execute_result",
          "data": {
            "text/plain": [
              "Index(['app', 'category', 'rating', 'reviews', 'size(kb)', 'installs', 'type',\n",
              "       'price', 'content_rating', 'genres', 'last_updated', 'current_ver',\n",
              "       'android_ver'],\n",
              "      dtype='object')"
            ]
          },
          "metadata": {},
          "execution_count": 21
        }
      ]
    },
    {
      "cell_type": "markdown",
      "source": [
        "*We know that \"VARIES WITH DEVICE\" means unknown, or np.nan. So lets change replace those values.*"
      ],
      "metadata": {
        "id": "bbyFYypswgTP"
      }
    },
    {
      "cell_type": "code",
      "source": [
        "df['size(kb)'].replace('VARIES WITH DEVICE', np.nan, inplace=True)"
      ],
      "metadata": {
        "id": "CCVrjqYjwavt"
      },
      "execution_count": 22,
      "outputs": []
    },
    {
      "cell_type": "code",
      "source": [
        "df.loc[df['size(kb)'].isnull(),]"
      ],
      "metadata": {
        "colab": {
          "base_uri": "https://localhost:8080/",
          "height": 850
        },
        "id": "9q01hvknwnHe",
        "outputId": "7ad30e99-2298-40b8-c040-1fdb72a9f742"
      },
      "execution_count": 23,
      "outputs": [
        {
          "output_type": "execute_result",
          "data": {
            "text/plain": [
              "                                                     app             category  \\\n",
              "37                                    FLOOR PLAN CREATOR       ART_AND_DESIGN   \n",
              "42                            TEXTGRAM - WRITE ON PHOTOS       ART_AND_DESIGN   \n",
              "52                         USED CARS AND TRUCKS FOR SALE    AUTO_AND_VEHICLES   \n",
              "67                                    ULYSSE SPEEDOMETER    AUTO_AND_VEHICLES   \n",
              "68                                                REPUVE    AUTO_AND_VEHICLES   \n",
              "...                                                  ...                  ...   \n",
              "10713  MY EARTHQUAKE ALERTS - US & WORLDWIDE EARTHQUAKES              WEATHER   \n",
              "10725                                          POSTA APP  MAPS_AND_NAVIGATION   \n",
              "10765                    CHAT FOR STRANGERS - VIDEO CHAT               SOCIAL   \n",
              "10826          FRIM: GET NEW FRIENDS ON LOCAL CHAT ROOMS               SOCIAL   \n",
              "10839                      THE SCP FOUNDATION DB FR NN5N  BOOKS_AND_REFERENCE   \n",
              "\n",
              "      rating reviews size(kb)     installs  type price content_rating  \\\n",
              "37       4.1   36639      NaN   5,000,000+  FREE     0       EVERYONE   \n",
              "42       4.4  295221      NaN  10,000,000+  FREE     0       EVERYONE   \n",
              "52       4.6   17057      NaN   1,000,000+  FREE     0       EVERYONE   \n",
              "67       4.3   40211      NaN   5,000,000+  FREE     0       EVERYONE   \n",
              "68       3.9     356      NaN     100,000+  FREE     0       EVERYONE   \n",
              "...      ...     ...      ...          ...   ...   ...            ...   \n",
              "10713    4.4    3471      NaN     100,000+  FREE     0       EVERYONE   \n",
              "10725    3.6       8      NaN       1,000+  FREE     0       EVERYONE   \n",
              "10765    3.4     622      NaN     100,000+  FREE     0     MATURE 17+   \n",
              "10826    4.0   88486      NaN   5,000,000+  FREE     0     MATURE 17+   \n",
              "10839    4.5     114      NaN       1,000+  FREE     0     MATURE 17+   \n",
              "\n",
              "                  genres        last_updated         current_ver  \\\n",
              "37          ART & DESIGN       JULY 14, 2018  VARIES WITH DEVICE   \n",
              "42          ART & DESIGN       JULY 30, 2018  VARIES WITH DEVICE   \n",
              "52       AUTO & VEHICLES       JULY 30, 2018  VARIES WITH DEVICE   \n",
              "67       AUTO & VEHICLES       JULY 30, 2018  VARIES WITH DEVICE   \n",
              "68       AUTO & VEHICLES        MAY 25, 2018  VARIES WITH DEVICE   \n",
              "...                  ...                 ...                 ...   \n",
              "10713            WEATHER       JULY 24, 2018  VARIES WITH DEVICE   \n",
              "10725  MAPS & NAVIGATION  SEPTEMBER 27, 2017  VARIES WITH DEVICE   \n",
              "10765             SOCIAL        MAY 23, 2018  VARIES WITH DEVICE   \n",
              "10826             SOCIAL      MARCH 23, 2018  VARIES WITH DEVICE   \n",
              "10839  BOOKS & REFERENCE    JANUARY 19, 2015  VARIES WITH DEVICE   \n",
              "\n",
              "              android_ver  \n",
              "37           2.3.3 AND UP  \n",
              "42     VARIES WITH DEVICE  \n",
              "52     VARIES WITH DEVICE  \n",
              "67     VARIES WITH DEVICE  \n",
              "68     VARIES WITH DEVICE  \n",
              "...                   ...  \n",
              "10713  VARIES WITH DEVICE  \n",
              "10725          4.4 AND UP  \n",
              "10765  VARIES WITH DEVICE  \n",
              "10826  VARIES WITH DEVICE  \n",
              "10839  VARIES WITH DEVICE  \n",
              "\n",
              "[1695 rows x 13 columns]"
            ],
            "text/html": [
              "\n",
              "  <div id=\"df-7e5e5575-eeae-4f82-8e63-3d45a60146b6\">\n",
              "    <div class=\"colab-df-container\">\n",
              "      <div>\n",
              "<style scoped>\n",
              "    .dataframe tbody tr th:only-of-type {\n",
              "        vertical-align: middle;\n",
              "    }\n",
              "\n",
              "    .dataframe tbody tr th {\n",
              "        vertical-align: top;\n",
              "    }\n",
              "\n",
              "    .dataframe thead th {\n",
              "        text-align: right;\n",
              "    }\n",
              "</style>\n",
              "<table border=\"1\" class=\"dataframe\">\n",
              "  <thead>\n",
              "    <tr style=\"text-align: right;\">\n",
              "      <th></th>\n",
              "      <th>app</th>\n",
              "      <th>category</th>\n",
              "      <th>rating</th>\n",
              "      <th>reviews</th>\n",
              "      <th>size(kb)</th>\n",
              "      <th>installs</th>\n",
              "      <th>type</th>\n",
              "      <th>price</th>\n",
              "      <th>content_rating</th>\n",
              "      <th>genres</th>\n",
              "      <th>last_updated</th>\n",
              "      <th>current_ver</th>\n",
              "      <th>android_ver</th>\n",
              "    </tr>\n",
              "  </thead>\n",
              "  <tbody>\n",
              "    <tr>\n",
              "      <th>37</th>\n",
              "      <td>FLOOR PLAN CREATOR</td>\n",
              "      <td>ART_AND_DESIGN</td>\n",
              "      <td>4.1</td>\n",
              "      <td>36639</td>\n",
              "      <td>NaN</td>\n",
              "      <td>5,000,000+</td>\n",
              "      <td>FREE</td>\n",
              "      <td>0</td>\n",
              "      <td>EVERYONE</td>\n",
              "      <td>ART &amp; DESIGN</td>\n",
              "      <td>JULY 14, 2018</td>\n",
              "      <td>VARIES WITH DEVICE</td>\n",
              "      <td>2.3.3 AND UP</td>\n",
              "    </tr>\n",
              "    <tr>\n",
              "      <th>42</th>\n",
              "      <td>TEXTGRAM - WRITE ON PHOTOS</td>\n",
              "      <td>ART_AND_DESIGN</td>\n",
              "      <td>4.4</td>\n",
              "      <td>295221</td>\n",
              "      <td>NaN</td>\n",
              "      <td>10,000,000+</td>\n",
              "      <td>FREE</td>\n",
              "      <td>0</td>\n",
              "      <td>EVERYONE</td>\n",
              "      <td>ART &amp; DESIGN</td>\n",
              "      <td>JULY 30, 2018</td>\n",
              "      <td>VARIES WITH DEVICE</td>\n",
              "      <td>VARIES WITH DEVICE</td>\n",
              "    </tr>\n",
              "    <tr>\n",
              "      <th>52</th>\n",
              "      <td>USED CARS AND TRUCKS FOR SALE</td>\n",
              "      <td>AUTO_AND_VEHICLES</td>\n",
              "      <td>4.6</td>\n",
              "      <td>17057</td>\n",
              "      <td>NaN</td>\n",
              "      <td>1,000,000+</td>\n",
              "      <td>FREE</td>\n",
              "      <td>0</td>\n",
              "      <td>EVERYONE</td>\n",
              "      <td>AUTO &amp; VEHICLES</td>\n",
              "      <td>JULY 30, 2018</td>\n",
              "      <td>VARIES WITH DEVICE</td>\n",
              "      <td>VARIES WITH DEVICE</td>\n",
              "    </tr>\n",
              "    <tr>\n",
              "      <th>67</th>\n",
              "      <td>ULYSSE SPEEDOMETER</td>\n",
              "      <td>AUTO_AND_VEHICLES</td>\n",
              "      <td>4.3</td>\n",
              "      <td>40211</td>\n",
              "      <td>NaN</td>\n",
              "      <td>5,000,000+</td>\n",
              "      <td>FREE</td>\n",
              "      <td>0</td>\n",
              "      <td>EVERYONE</td>\n",
              "      <td>AUTO &amp; VEHICLES</td>\n",
              "      <td>JULY 30, 2018</td>\n",
              "      <td>VARIES WITH DEVICE</td>\n",
              "      <td>VARIES WITH DEVICE</td>\n",
              "    </tr>\n",
              "    <tr>\n",
              "      <th>68</th>\n",
              "      <td>REPUVE</td>\n",
              "      <td>AUTO_AND_VEHICLES</td>\n",
              "      <td>3.9</td>\n",
              "      <td>356</td>\n",
              "      <td>NaN</td>\n",
              "      <td>100,000+</td>\n",
              "      <td>FREE</td>\n",
              "      <td>0</td>\n",
              "      <td>EVERYONE</td>\n",
              "      <td>AUTO &amp; VEHICLES</td>\n",
              "      <td>MAY 25, 2018</td>\n",
              "      <td>VARIES WITH DEVICE</td>\n",
              "      <td>VARIES WITH DEVICE</td>\n",
              "    </tr>\n",
              "    <tr>\n",
              "      <th>...</th>\n",
              "      <td>...</td>\n",
              "      <td>...</td>\n",
              "      <td>...</td>\n",
              "      <td>...</td>\n",
              "      <td>...</td>\n",
              "      <td>...</td>\n",
              "      <td>...</td>\n",
              "      <td>...</td>\n",
              "      <td>...</td>\n",
              "      <td>...</td>\n",
              "      <td>...</td>\n",
              "      <td>...</td>\n",
              "      <td>...</td>\n",
              "    </tr>\n",
              "    <tr>\n",
              "      <th>10713</th>\n",
              "      <td>MY EARTHQUAKE ALERTS - US &amp; WORLDWIDE EARTHQUAKES</td>\n",
              "      <td>WEATHER</td>\n",
              "      <td>4.4</td>\n",
              "      <td>3471</td>\n",
              "      <td>NaN</td>\n",
              "      <td>100,000+</td>\n",
              "      <td>FREE</td>\n",
              "      <td>0</td>\n",
              "      <td>EVERYONE</td>\n",
              "      <td>WEATHER</td>\n",
              "      <td>JULY 24, 2018</td>\n",
              "      <td>VARIES WITH DEVICE</td>\n",
              "      <td>VARIES WITH DEVICE</td>\n",
              "    </tr>\n",
              "    <tr>\n",
              "      <th>10725</th>\n",
              "      <td>POSTA APP</td>\n",
              "      <td>MAPS_AND_NAVIGATION</td>\n",
              "      <td>3.6</td>\n",
              "      <td>8</td>\n",
              "      <td>NaN</td>\n",
              "      <td>1,000+</td>\n",
              "      <td>FREE</td>\n",
              "      <td>0</td>\n",
              "      <td>EVERYONE</td>\n",
              "      <td>MAPS &amp; NAVIGATION</td>\n",
              "      <td>SEPTEMBER 27, 2017</td>\n",
              "      <td>VARIES WITH DEVICE</td>\n",
              "      <td>4.4 AND UP</td>\n",
              "    </tr>\n",
              "    <tr>\n",
              "      <th>10765</th>\n",
              "      <td>CHAT FOR STRANGERS - VIDEO CHAT</td>\n",
              "      <td>SOCIAL</td>\n",
              "      <td>3.4</td>\n",
              "      <td>622</td>\n",
              "      <td>NaN</td>\n",
              "      <td>100,000+</td>\n",
              "      <td>FREE</td>\n",
              "      <td>0</td>\n",
              "      <td>MATURE 17+</td>\n",
              "      <td>SOCIAL</td>\n",
              "      <td>MAY 23, 2018</td>\n",
              "      <td>VARIES WITH DEVICE</td>\n",
              "      <td>VARIES WITH DEVICE</td>\n",
              "    </tr>\n",
              "    <tr>\n",
              "      <th>10826</th>\n",
              "      <td>FRIM: GET NEW FRIENDS ON LOCAL CHAT ROOMS</td>\n",
              "      <td>SOCIAL</td>\n",
              "      <td>4.0</td>\n",
              "      <td>88486</td>\n",
              "      <td>NaN</td>\n",
              "      <td>5,000,000+</td>\n",
              "      <td>FREE</td>\n",
              "      <td>0</td>\n",
              "      <td>MATURE 17+</td>\n",
              "      <td>SOCIAL</td>\n",
              "      <td>MARCH 23, 2018</td>\n",
              "      <td>VARIES WITH DEVICE</td>\n",
              "      <td>VARIES WITH DEVICE</td>\n",
              "    </tr>\n",
              "    <tr>\n",
              "      <th>10839</th>\n",
              "      <td>THE SCP FOUNDATION DB FR NN5N</td>\n",
              "      <td>BOOKS_AND_REFERENCE</td>\n",
              "      <td>4.5</td>\n",
              "      <td>114</td>\n",
              "      <td>NaN</td>\n",
              "      <td>1,000+</td>\n",
              "      <td>FREE</td>\n",
              "      <td>0</td>\n",
              "      <td>MATURE 17+</td>\n",
              "      <td>BOOKS &amp; REFERENCE</td>\n",
              "      <td>JANUARY 19, 2015</td>\n",
              "      <td>VARIES WITH DEVICE</td>\n",
              "      <td>VARIES WITH DEVICE</td>\n",
              "    </tr>\n",
              "  </tbody>\n",
              "</table>\n",
              "<p>1695 rows × 13 columns</p>\n",
              "</div>\n",
              "      <button class=\"colab-df-convert\" onclick=\"convertToInteractive('df-7e5e5575-eeae-4f82-8e63-3d45a60146b6')\"\n",
              "              title=\"Convert this dataframe to an interactive table.\"\n",
              "              style=\"display:none;\">\n",
              "        \n",
              "  <svg xmlns=\"http://www.w3.org/2000/svg\" height=\"24px\"viewBox=\"0 0 24 24\"\n",
              "       width=\"24px\">\n",
              "    <path d=\"M0 0h24v24H0V0z\" fill=\"none\"/>\n",
              "    <path d=\"M18.56 5.44l.94 2.06.94-2.06 2.06-.94-2.06-.94-.94-2.06-.94 2.06-2.06.94zm-11 1L8.5 8.5l.94-2.06 2.06-.94-2.06-.94L8.5 2.5l-.94 2.06-2.06.94zm10 10l.94 2.06.94-2.06 2.06-.94-2.06-.94-.94-2.06-.94 2.06-2.06.94z\"/><path d=\"M17.41 7.96l-1.37-1.37c-.4-.4-.92-.59-1.43-.59-.52 0-1.04.2-1.43.59L10.3 9.45l-7.72 7.72c-.78.78-.78 2.05 0 2.83L4 21.41c.39.39.9.59 1.41.59.51 0 1.02-.2 1.41-.59l7.78-7.78 2.81-2.81c.8-.78.8-2.07 0-2.86zM5.41 20L4 18.59l7.72-7.72 1.47 1.35L5.41 20z\"/>\n",
              "  </svg>\n",
              "      </button>\n",
              "      \n",
              "  <style>\n",
              "    .colab-df-container {\n",
              "      display:flex;\n",
              "      flex-wrap:wrap;\n",
              "      gap: 12px;\n",
              "    }\n",
              "\n",
              "    .colab-df-convert {\n",
              "      background-color: #E8F0FE;\n",
              "      border: none;\n",
              "      border-radius: 50%;\n",
              "      cursor: pointer;\n",
              "      display: none;\n",
              "      fill: #1967D2;\n",
              "      height: 32px;\n",
              "      padding: 0 0 0 0;\n",
              "      width: 32px;\n",
              "    }\n",
              "\n",
              "    .colab-df-convert:hover {\n",
              "      background-color: #E2EBFA;\n",
              "      box-shadow: 0px 1px 2px rgba(60, 64, 67, 0.3), 0px 1px 3px 1px rgba(60, 64, 67, 0.15);\n",
              "      fill: #174EA6;\n",
              "    }\n",
              "\n",
              "    [theme=dark] .colab-df-convert {\n",
              "      background-color: #3B4455;\n",
              "      fill: #D2E3FC;\n",
              "    }\n",
              "\n",
              "    [theme=dark] .colab-df-convert:hover {\n",
              "      background-color: #434B5C;\n",
              "      box-shadow: 0px 1px 3px 1px rgba(0, 0, 0, 0.15);\n",
              "      filter: drop-shadow(0px 1px 2px rgba(0, 0, 0, 0.3));\n",
              "      fill: #FFFFFF;\n",
              "    }\n",
              "  </style>\n",
              "\n",
              "      <script>\n",
              "        const buttonEl =\n",
              "          document.querySelector('#df-7e5e5575-eeae-4f82-8e63-3d45a60146b6 button.colab-df-convert');\n",
              "        buttonEl.style.display =\n",
              "          google.colab.kernel.accessAllowed ? 'block' : 'none';\n",
              "\n",
              "        async function convertToInteractive(key) {\n",
              "          const element = document.querySelector('#df-7e5e5575-eeae-4f82-8e63-3d45a60146b6');\n",
              "          const dataTable =\n",
              "            await google.colab.kernel.invokeFunction('convertToInteractive',\n",
              "                                                     [key], {});\n",
              "          if (!dataTable) return;\n",
              "\n",
              "          const docLinkHtml = 'Like what you see? Visit the ' +\n",
              "            '<a target=\"_blank\" href=https://colab.research.google.com/notebooks/data_table.ipynb>data table notebook</a>'\n",
              "            + ' to learn more about interactive tables.';\n",
              "          element.innerHTML = '';\n",
              "          dataTable['output_type'] = 'display_data';\n",
              "          await google.colab.output.renderOutput(dataTable, element);\n",
              "          const docLink = document.createElement('div');\n",
              "          docLink.innerHTML = docLinkHtml;\n",
              "          element.appendChild(docLink);\n",
              "        }\n",
              "      </script>\n",
              "    </div>\n",
              "  </div>\n",
              "  "
            ]
          },
          "metadata": {},
          "execution_count": 23
        }
      ]
    },
    {
      "cell_type": "markdown",
      "source": [
        "## From this we can see that there are 1695 rows that have NaN values and get a general idea of the context of those values."
      ],
      "metadata": {
        "id": "y1pGfWyzwvqk"
      }
    },
    {
      "cell_type": "code",
      "source": [
        "def chk_null_sum(df, col):\n",
        "    return df[col].isnull().sum()\n",
        "\n",
        "chk_null_sum(df, 'size(kb)')"
      ],
      "metadata": {
        "colab": {
          "base_uri": "https://localhost:8080/"
        },
        "id": "O7vKHpmNwxJU",
        "outputId": "a0e456d9-e24b-4d33-d522-0c258b3e314c"
      },
      "execution_count": 24,
      "outputs": [
        {
          "output_type": "execute_result",
          "data": {
            "text/plain": [
              "1695"
            ]
          },
          "metadata": {},
          "execution_count": 24
        }
      ]
    },
    {
      "cell_type": "code",
      "source": [
        "# now we will remove the \"+\"\n",
        "\n",
        "def remove_plus(df, col):\n",
        "    df[col] = df[col].astype(str).str.replace('+', '', regex=False)\n",
        "\n",
        "remove_plus(df, 'size(kb)')"
      ],
      "metadata": {
        "id": "FF1_Ttcbw3cb"
      },
      "execution_count": 25,
      "outputs": []
    },
    {
      "cell_type": "code",
      "source": [
        "# cross check\n",
        "\n",
        "df.loc[df['size(kb)'].astype(str).str.contains('+', regex=False),]"
      ],
      "metadata": {
        "colab": {
          "base_uri": "https://localhost:8080/",
          "height": 49
        },
        "id": "ysH2wlmhw62N",
        "outputId": "2c7ffa40-b4b8-4c07-c517-cc493aaca93d"
      },
      "execution_count": 26,
      "outputs": [
        {
          "output_type": "execute_result",
          "data": {
            "text/plain": [
              "Empty DataFrame\n",
              "Columns: [app, category, rating, reviews, size(kb), installs, type, price, content_rating, genres, last_updated, current_ver, android_ver]\n",
              "Index: []"
            ],
            "text/html": [
              "\n",
              "  <div id=\"df-e7ab6faa-93e5-4be7-9adf-3b3642f07b30\">\n",
              "    <div class=\"colab-df-container\">\n",
              "      <div>\n",
              "<style scoped>\n",
              "    .dataframe tbody tr th:only-of-type {\n",
              "        vertical-align: middle;\n",
              "    }\n",
              "\n",
              "    .dataframe tbody tr th {\n",
              "        vertical-align: top;\n",
              "    }\n",
              "\n",
              "    .dataframe thead th {\n",
              "        text-align: right;\n",
              "    }\n",
              "</style>\n",
              "<table border=\"1\" class=\"dataframe\">\n",
              "  <thead>\n",
              "    <tr style=\"text-align: right;\">\n",
              "      <th></th>\n",
              "      <th>app</th>\n",
              "      <th>category</th>\n",
              "      <th>rating</th>\n",
              "      <th>reviews</th>\n",
              "      <th>size(kb)</th>\n",
              "      <th>installs</th>\n",
              "      <th>type</th>\n",
              "      <th>price</th>\n",
              "      <th>content_rating</th>\n",
              "      <th>genres</th>\n",
              "      <th>last_updated</th>\n",
              "      <th>current_ver</th>\n",
              "      <th>android_ver</th>\n",
              "    </tr>\n",
              "  </thead>\n",
              "  <tbody>\n",
              "  </tbody>\n",
              "</table>\n",
              "</div>\n",
              "      <button class=\"colab-df-convert\" onclick=\"convertToInteractive('df-e7ab6faa-93e5-4be7-9adf-3b3642f07b30')\"\n",
              "              title=\"Convert this dataframe to an interactive table.\"\n",
              "              style=\"display:none;\">\n",
              "        \n",
              "  <svg xmlns=\"http://www.w3.org/2000/svg\" height=\"24px\"viewBox=\"0 0 24 24\"\n",
              "       width=\"24px\">\n",
              "    <path d=\"M0 0h24v24H0V0z\" fill=\"none\"/>\n",
              "    <path d=\"M18.56 5.44l.94 2.06.94-2.06 2.06-.94-2.06-.94-.94-2.06-.94 2.06-2.06.94zm-11 1L8.5 8.5l.94-2.06 2.06-.94-2.06-.94L8.5 2.5l-.94 2.06-2.06.94zm10 10l.94 2.06.94-2.06 2.06-.94-2.06-.94-.94-2.06-.94 2.06-2.06.94z\"/><path d=\"M17.41 7.96l-1.37-1.37c-.4-.4-.92-.59-1.43-.59-.52 0-1.04.2-1.43.59L10.3 9.45l-7.72 7.72c-.78.78-.78 2.05 0 2.83L4 21.41c.39.39.9.59 1.41.59.51 0 1.02-.2 1.41-.59l7.78-7.78 2.81-2.81c.8-.78.8-2.07 0-2.86zM5.41 20L4 18.59l7.72-7.72 1.47 1.35L5.41 20z\"/>\n",
              "  </svg>\n",
              "      </button>\n",
              "      \n",
              "  <style>\n",
              "    .colab-df-container {\n",
              "      display:flex;\n",
              "      flex-wrap:wrap;\n",
              "      gap: 12px;\n",
              "    }\n",
              "\n",
              "    .colab-df-convert {\n",
              "      background-color: #E8F0FE;\n",
              "      border: none;\n",
              "      border-radius: 50%;\n",
              "      cursor: pointer;\n",
              "      display: none;\n",
              "      fill: #1967D2;\n",
              "      height: 32px;\n",
              "      padding: 0 0 0 0;\n",
              "      width: 32px;\n",
              "    }\n",
              "\n",
              "    .colab-df-convert:hover {\n",
              "      background-color: #E2EBFA;\n",
              "      box-shadow: 0px 1px 2px rgba(60, 64, 67, 0.3), 0px 1px 3px 1px rgba(60, 64, 67, 0.15);\n",
              "      fill: #174EA6;\n",
              "    }\n",
              "\n",
              "    [theme=dark] .colab-df-convert {\n",
              "      background-color: #3B4455;\n",
              "      fill: #D2E3FC;\n",
              "    }\n",
              "\n",
              "    [theme=dark] .colab-df-convert:hover {\n",
              "      background-color: #434B5C;\n",
              "      box-shadow: 0px 1px 3px 1px rgba(0, 0, 0, 0.15);\n",
              "      filter: drop-shadow(0px 1px 2px rgba(0, 0, 0, 0.3));\n",
              "      fill: #FFFFFF;\n",
              "    }\n",
              "  </style>\n",
              "\n",
              "      <script>\n",
              "        const buttonEl =\n",
              "          document.querySelector('#df-e7ab6faa-93e5-4be7-9adf-3b3642f07b30 button.colab-df-convert');\n",
              "        buttonEl.style.display =\n",
              "          google.colab.kernel.accessAllowed ? 'block' : 'none';\n",
              "\n",
              "        async function convertToInteractive(key) {\n",
              "          const element = document.querySelector('#df-e7ab6faa-93e5-4be7-9adf-3b3642f07b30');\n",
              "          const dataTable =\n",
              "            await google.colab.kernel.invokeFunction('convertToInteractive',\n",
              "                                                     [key], {});\n",
              "          if (!dataTable) return;\n",
              "\n",
              "          const docLinkHtml = 'Like what you see? Visit the ' +\n",
              "            '<a target=\"_blank\" href=https://colab.research.google.com/notebooks/data_table.ipynb>data table notebook</a>'\n",
              "            + ' to learn more about interactive tables.';\n",
              "          element.innerHTML = '';\n",
              "          dataTable['output_type'] = 'display_data';\n",
              "          await google.colab.output.renderOutput(dataTable, element);\n",
              "          const docLink = document.createElement('div');\n",
              "          docLink.innerHTML = docLinkHtml;\n",
              "          element.appendChild(docLink);\n",
              "        }\n",
              "      </script>\n",
              "    </div>\n",
              "  </div>\n",
              "  "
            ]
          },
          "metadata": {},
          "execution_count": 26
        }
      ]
    },
    {
      "cell_type": "code",
      "source": [
        "# removing commas\n",
        "\n",
        "def remove_commas(df, col):\n",
        "    df[col] = df[col].str.replace(',', '')\n",
        "\n",
        "remove_commas(df, 'size(kb)')"
      ],
      "metadata": {
        "id": "7_QeOa5ixD4X"
      },
      "execution_count": 27,
      "outputs": []
    },
    {
      "cell_type": "code",
      "source": [
        "# convert column size data type to numeric\n",
        "\n",
        "def convert_to_numeric(df, col):\n",
        "    df[col] = pd.to_numeric(df[col], errors='coerce')\n",
        "\n",
        "convert_to_numeric(df, 'size(kb)')"
      ],
      "metadata": {
        "id": "Cy3r9pUZxFiq"
      },
      "execution_count": 28,
      "outputs": []
    },
    {
      "cell_type": "markdown",
      "source": [
        "*I am using coerce here because I know that anything being coerced is already a nan value.*\n",
        "\n",
        "NaN values in size column\n",
        "To deal with these missing values, we can fill them with the mean value, grouped by category, so that it does not affect our standard deviation."
      ],
      "metadata": {
        "id": "KxhFJkzIyZI1"
      }
    },
    {
      "cell_type": "code",
      "source": [
        "df['size(kb)'] = df['size(kb)'].astype(float).fillna(df.groupby('category')['size(kb)'].transform('mean'))"
      ],
      "metadata": {
        "id": "YW50gXsgycAF"
      },
      "execution_count": 29,
      "outputs": []
    },
    {
      "cell_type": "code",
      "source": [
        "# cross check\n",
        "\n",
        "df.isnull().sum()"
      ],
      "metadata": {
        "colab": {
          "base_uri": "https://localhost:8080/"
        },
        "id": "68_PZzoKyjnT",
        "outputId": "00abae86-ba73-47e4-fef7-49457604d6bc"
      },
      "execution_count": 30,
      "outputs": [
        {
          "output_type": "execute_result",
          "data": {
            "text/plain": [
              "app                  0\n",
              "category             0\n",
              "rating            1474\n",
              "reviews              0\n",
              "size(kb)             0\n",
              "installs             0\n",
              "type                 1\n",
              "price                0\n",
              "content_rating       1\n",
              "genres               0\n",
              "last_updated         0\n",
              "current_ver          8\n",
              "android_ver          3\n",
              "dtype: int64"
            ]
          },
          "metadata": {},
          "execution_count": 30
        }
      ]
    },
    {
      "cell_type": "markdown",
      "source": [
        "## Last Updated\n",
        "For this analysis, I only want the year so i will remove everything before the comma in the last_updated row."
      ],
      "metadata": {
        "id": "ZU4y3fiRysyi"
      }
    },
    {
      "cell_type": "code",
      "source": [
        "df['last_updated'].unique()"
      ],
      "metadata": {
        "colab": {
          "base_uri": "https://localhost:8080/"
        },
        "id": "pLSmf392yveH",
        "outputId": "65323313-1032-4f84-d7fc-20ec8d349c93"
      },
      "execution_count": 31,
      "outputs": [
        {
          "output_type": "execute_result",
          "data": {
            "text/plain": [
              "array(['JANUARY 7, 2018', 'JANUARY 15, 2018', 'AUGUST 1, 2018', ...,\n",
              "       'JANUARY 20, 2014', 'FEBRUARY 16, 2014', 'MARCH 23, 2014'],\n",
              "      dtype=object)"
            ]
          },
          "metadata": {},
          "execution_count": 31
        }
      ]
    },
    {
      "cell_type": "code",
      "source": [
        "cond = df.loc[df['last_updated'] == '1.0.19',].index"
      ],
      "metadata": {
        "id": "so-cqO3Hy5tw"
      },
      "execution_count": 32,
      "outputs": []
    },
    {
      "cell_type": "markdown",
      "source": [
        "*This row has been currupted, so we will remove it from the dataframe.*"
      ],
      "metadata": {
        "id": "Hu2YsIxLy-NP"
      }
    },
    {
      "cell_type": "code",
      "source": [
        "df.drop(cond, inplace=True)"
      ],
      "metadata": {
        "id": "dxH_rB6JzCID"
      },
      "execution_count": 33,
      "outputs": []
    },
    {
      "cell_type": "code",
      "source": [
        "def convert_datetime(df, col):\n",
        "    df[col] = pd.to_datetime(df[col])\n",
        "    \n",
        "def extract_year_dt(df, col):\n",
        "    df[col] = df[col].dt.year\n",
        "    \n",
        "    \n",
        "convert_datetime(df, 'last_updated')\n",
        "extract_year_dt(df, 'last_updated')"
      ],
      "metadata": {
        "id": "ZIWGy_wEzHRb"
      },
      "execution_count": 34,
      "outputs": []
    },
    {
      "cell_type": "code",
      "source": [
        "# cross check\n",
        "\n",
        "print(df['last_updated'])"
      ],
      "metadata": {
        "colab": {
          "base_uri": "https://localhost:8080/"
        },
        "id": "WM0ETSnAzKcC",
        "outputId": "562fd0f5-f7e2-48fd-dc92-6df3fc19495b"
      },
      "execution_count": 35,
      "outputs": [
        {
          "output_type": "stream",
          "name": "stdout",
          "text": [
            "0        2018\n",
            "1        2018\n",
            "2        2018\n",
            "3        2018\n",
            "4        2018\n",
            "         ... \n",
            "10836    2017\n",
            "10837    2018\n",
            "10838    2017\n",
            "10839    2015\n",
            "10840    2018\n",
            "Name: last_updated, Length: 10840, dtype: int64\n"
          ]
        }
      ]
    },
    {
      "cell_type": "markdown",
      "source": [
        "## Installs\n",
        "Lets remove any non numeric digits and convert the datatype to numeric."
      ],
      "metadata": {
        "id": "1MX8mPL9zRsO"
      }
    },
    {
      "cell_type": "code",
      "source": [
        "df['installs'].unique()"
      ],
      "metadata": {
        "colab": {
          "base_uri": "https://localhost:8080/"
        },
        "id": "TyvOcSPhzQDQ",
        "outputId": "763583b5-0cb5-4581-b136-58d1aad2e977"
      },
      "execution_count": 36,
      "outputs": [
        {
          "output_type": "execute_result",
          "data": {
            "text/plain": [
              "array(['10,000+', '500,000+', '5,000,000+', '50,000,000+', '100,000+',\n",
              "       '50,000+', '1,000,000+', '10,000,000+', '5,000+', '100,000,000+',\n",
              "       '1,000,000,000+', '1,000+', '500,000,000+', '50+', '100+', '500+',\n",
              "       '10+', '1+', '5+', '0+', '0'], dtype=object)"
            ]
          },
          "metadata": {},
          "execution_count": 36
        }
      ]
    },
    {
      "cell_type": "code",
      "source": [
        "remove_plus(df, 'installs')\n",
        "remove_commas(df, 'installs')"
      ],
      "metadata": {
        "id": "3-PTAs25zgRn"
      },
      "execution_count": 37,
      "outputs": []
    },
    {
      "cell_type": "code",
      "source": [
        "def to_numeric(df, col):\n",
        "    return pd.to_numeric(df[col])"
      ],
      "metadata": {
        "id": "PeXRFsZLzjYK"
      },
      "execution_count": 38,
      "outputs": []
    },
    {
      "cell_type": "code",
      "source": [
        "df['installs'] = to_numeric(df, 'installs')"
      ],
      "metadata": {
        "id": "fwRCXXCWzmHQ"
      },
      "execution_count": 39,
      "outputs": []
    },
    {
      "cell_type": "code",
      "source": [
        "df.info()"
      ],
      "metadata": {
        "colab": {
          "base_uri": "https://localhost:8080/"
        },
        "id": "0Q9XMNGqznhd",
        "outputId": "240784be-b6b0-4cfe-c9d4-1ecbb0173eac"
      },
      "execution_count": 40,
      "outputs": [
        {
          "output_type": "stream",
          "name": "stdout",
          "text": [
            "<class 'pandas.core.frame.DataFrame'>\n",
            "Int64Index: 10840 entries, 0 to 10840\n",
            "Data columns (total 13 columns):\n",
            " #   Column          Non-Null Count  Dtype  \n",
            "---  ------          --------------  -----  \n",
            " 0   app             10840 non-null  object \n",
            " 1   category        10840 non-null  object \n",
            " 2   rating          9366 non-null   object \n",
            " 3   reviews         10840 non-null  object \n",
            " 4   size(kb)        10840 non-null  float64\n",
            " 5   installs        10840 non-null  int64  \n",
            " 6   type            10839 non-null  object \n",
            " 7   price           10840 non-null  object \n",
            " 8   content_rating  10840 non-null  object \n",
            " 9   genres          10840 non-null  object \n",
            " 10  last_updated    10840 non-null  int64  \n",
            " 11  current_ver     10832 non-null  object \n",
            " 12  android_ver     10838 non-null  object \n",
            "dtypes: float64(1), int64(2), object(10)\n",
            "memory usage: 1.2+ MB\n"
          ]
        }
      ]
    },
    {
      "cell_type": "markdown",
      "source": [
        "\n",
        "## Current_ver and Android_ver\n",
        "We dont need current_ver or android_ver for this anlalysis so we will remove those."
      ],
      "metadata": {
        "id": "sdst_NT1z3e2"
      }
    },
    {
      "cell_type": "code",
      "source": [
        "df = df.drop(['current_ver', 'android_ver'], axis=1)"
      ],
      "metadata": {
        "id": "NIf5mcRAz44U"
      },
      "execution_count": 41,
      "outputs": []
    },
    {
      "cell_type": "code",
      "source": [
        "df.head()"
      ],
      "metadata": {
        "colab": {
          "base_uri": "https://localhost:8080/",
          "height": 302
        },
        "id": "HaVgI2V9z8iA",
        "outputId": "18b02cc1-b6ae-4e34-9d62-054dfa83e632"
      },
      "execution_count": 42,
      "outputs": [
        {
          "output_type": "execute_result",
          "data": {
            "text/plain": [
              "                                                 app        category rating  \\\n",
              "0     PHOTO EDITOR & CANDY CAMERA & GRID & SCRAPBOOK  ART_AND_DESIGN    4.1   \n",
              "1                                COLORING BOOK MOANA  ART_AND_DESIGN    3.9   \n",
              "2  U LAUNCHER LITE – FREE LIVE COOL THEMES, HIDE ...  ART_AND_DESIGN    4.7   \n",
              "3                              SKETCH - DRAW & PAINT  ART_AND_DESIGN    4.5   \n",
              "4              PIXEL DRAW - NUMBER ART COLORING BOOK  ART_AND_DESIGN    4.3   \n",
              "\n",
              "  reviews  size(kb)  installs  type price content_rating  \\\n",
              "0     159   19456.0     10000  FREE     0       EVERYONE   \n",
              "1     967   14336.0    500000  FREE     0       EVERYONE   \n",
              "2   87510    8908.8   5000000  FREE     0       EVERYONE   \n",
              "3  215644   25600.0  50000000  FREE     0           TEEN   \n",
              "4     967    2867.2    100000  FREE     0       EVERYONE   \n",
              "\n",
              "                      genres  last_updated  \n",
              "0               ART & DESIGN          2018  \n",
              "1  ART & DESIGN;PRETEND PLAY          2018  \n",
              "2               ART & DESIGN          2018  \n",
              "3               ART & DESIGN          2018  \n",
              "4    ART & DESIGN;CREATIVITY          2018  "
            ],
            "text/html": [
              "\n",
              "  <div id=\"df-1250e643-e5e9-4f59-b164-1cad8d4a44e4\">\n",
              "    <div class=\"colab-df-container\">\n",
              "      <div>\n",
              "<style scoped>\n",
              "    .dataframe tbody tr th:only-of-type {\n",
              "        vertical-align: middle;\n",
              "    }\n",
              "\n",
              "    .dataframe tbody tr th {\n",
              "        vertical-align: top;\n",
              "    }\n",
              "\n",
              "    .dataframe thead th {\n",
              "        text-align: right;\n",
              "    }\n",
              "</style>\n",
              "<table border=\"1\" class=\"dataframe\">\n",
              "  <thead>\n",
              "    <tr style=\"text-align: right;\">\n",
              "      <th></th>\n",
              "      <th>app</th>\n",
              "      <th>category</th>\n",
              "      <th>rating</th>\n",
              "      <th>reviews</th>\n",
              "      <th>size(kb)</th>\n",
              "      <th>installs</th>\n",
              "      <th>type</th>\n",
              "      <th>price</th>\n",
              "      <th>content_rating</th>\n",
              "      <th>genres</th>\n",
              "      <th>last_updated</th>\n",
              "    </tr>\n",
              "  </thead>\n",
              "  <tbody>\n",
              "    <tr>\n",
              "      <th>0</th>\n",
              "      <td>PHOTO EDITOR &amp; CANDY CAMERA &amp; GRID &amp; SCRAPBOOK</td>\n",
              "      <td>ART_AND_DESIGN</td>\n",
              "      <td>4.1</td>\n",
              "      <td>159</td>\n",
              "      <td>19456.0</td>\n",
              "      <td>10000</td>\n",
              "      <td>FREE</td>\n",
              "      <td>0</td>\n",
              "      <td>EVERYONE</td>\n",
              "      <td>ART &amp; DESIGN</td>\n",
              "      <td>2018</td>\n",
              "    </tr>\n",
              "    <tr>\n",
              "      <th>1</th>\n",
              "      <td>COLORING BOOK MOANA</td>\n",
              "      <td>ART_AND_DESIGN</td>\n",
              "      <td>3.9</td>\n",
              "      <td>967</td>\n",
              "      <td>14336.0</td>\n",
              "      <td>500000</td>\n",
              "      <td>FREE</td>\n",
              "      <td>0</td>\n",
              "      <td>EVERYONE</td>\n",
              "      <td>ART &amp; DESIGN;PRETEND PLAY</td>\n",
              "      <td>2018</td>\n",
              "    </tr>\n",
              "    <tr>\n",
              "      <th>2</th>\n",
              "      <td>U LAUNCHER LITE – FREE LIVE COOL THEMES, HIDE ...</td>\n",
              "      <td>ART_AND_DESIGN</td>\n",
              "      <td>4.7</td>\n",
              "      <td>87510</td>\n",
              "      <td>8908.8</td>\n",
              "      <td>5000000</td>\n",
              "      <td>FREE</td>\n",
              "      <td>0</td>\n",
              "      <td>EVERYONE</td>\n",
              "      <td>ART &amp; DESIGN</td>\n",
              "      <td>2018</td>\n",
              "    </tr>\n",
              "    <tr>\n",
              "      <th>3</th>\n",
              "      <td>SKETCH - DRAW &amp; PAINT</td>\n",
              "      <td>ART_AND_DESIGN</td>\n",
              "      <td>4.5</td>\n",
              "      <td>215644</td>\n",
              "      <td>25600.0</td>\n",
              "      <td>50000000</td>\n",
              "      <td>FREE</td>\n",
              "      <td>0</td>\n",
              "      <td>TEEN</td>\n",
              "      <td>ART &amp; DESIGN</td>\n",
              "      <td>2018</td>\n",
              "    </tr>\n",
              "    <tr>\n",
              "      <th>4</th>\n",
              "      <td>PIXEL DRAW - NUMBER ART COLORING BOOK</td>\n",
              "      <td>ART_AND_DESIGN</td>\n",
              "      <td>4.3</td>\n",
              "      <td>967</td>\n",
              "      <td>2867.2</td>\n",
              "      <td>100000</td>\n",
              "      <td>FREE</td>\n",
              "      <td>0</td>\n",
              "      <td>EVERYONE</td>\n",
              "      <td>ART &amp; DESIGN;CREATIVITY</td>\n",
              "      <td>2018</td>\n",
              "    </tr>\n",
              "  </tbody>\n",
              "</table>\n",
              "</div>\n",
              "      <button class=\"colab-df-convert\" onclick=\"convertToInteractive('df-1250e643-e5e9-4f59-b164-1cad8d4a44e4')\"\n",
              "              title=\"Convert this dataframe to an interactive table.\"\n",
              "              style=\"display:none;\">\n",
              "        \n",
              "  <svg xmlns=\"http://www.w3.org/2000/svg\" height=\"24px\"viewBox=\"0 0 24 24\"\n",
              "       width=\"24px\">\n",
              "    <path d=\"M0 0h24v24H0V0z\" fill=\"none\"/>\n",
              "    <path d=\"M18.56 5.44l.94 2.06.94-2.06 2.06-.94-2.06-.94-.94-2.06-.94 2.06-2.06.94zm-11 1L8.5 8.5l.94-2.06 2.06-.94-2.06-.94L8.5 2.5l-.94 2.06-2.06.94zm10 10l.94 2.06.94-2.06 2.06-.94-2.06-.94-.94-2.06-.94 2.06-2.06.94z\"/><path d=\"M17.41 7.96l-1.37-1.37c-.4-.4-.92-.59-1.43-.59-.52 0-1.04.2-1.43.59L10.3 9.45l-7.72 7.72c-.78.78-.78 2.05 0 2.83L4 21.41c.39.39.9.59 1.41.59.51 0 1.02-.2 1.41-.59l7.78-7.78 2.81-2.81c.8-.78.8-2.07 0-2.86zM5.41 20L4 18.59l7.72-7.72 1.47 1.35L5.41 20z\"/>\n",
              "  </svg>\n",
              "      </button>\n",
              "      \n",
              "  <style>\n",
              "    .colab-df-container {\n",
              "      display:flex;\n",
              "      flex-wrap:wrap;\n",
              "      gap: 12px;\n",
              "    }\n",
              "\n",
              "    .colab-df-convert {\n",
              "      background-color: #E8F0FE;\n",
              "      border: none;\n",
              "      border-radius: 50%;\n",
              "      cursor: pointer;\n",
              "      display: none;\n",
              "      fill: #1967D2;\n",
              "      height: 32px;\n",
              "      padding: 0 0 0 0;\n",
              "      width: 32px;\n",
              "    }\n",
              "\n",
              "    .colab-df-convert:hover {\n",
              "      background-color: #E2EBFA;\n",
              "      box-shadow: 0px 1px 2px rgba(60, 64, 67, 0.3), 0px 1px 3px 1px rgba(60, 64, 67, 0.15);\n",
              "      fill: #174EA6;\n",
              "    }\n",
              "\n",
              "    [theme=dark] .colab-df-convert {\n",
              "      background-color: #3B4455;\n",
              "      fill: #D2E3FC;\n",
              "    }\n",
              "\n",
              "    [theme=dark] .colab-df-convert:hover {\n",
              "      background-color: #434B5C;\n",
              "      box-shadow: 0px 1px 3px 1px rgba(0, 0, 0, 0.15);\n",
              "      filter: drop-shadow(0px 1px 2px rgba(0, 0, 0, 0.3));\n",
              "      fill: #FFFFFF;\n",
              "    }\n",
              "  </style>\n",
              "\n",
              "      <script>\n",
              "        const buttonEl =\n",
              "          document.querySelector('#df-1250e643-e5e9-4f59-b164-1cad8d4a44e4 button.colab-df-convert');\n",
              "        buttonEl.style.display =\n",
              "          google.colab.kernel.accessAllowed ? 'block' : 'none';\n",
              "\n",
              "        async function convertToInteractive(key) {\n",
              "          const element = document.querySelector('#df-1250e643-e5e9-4f59-b164-1cad8d4a44e4');\n",
              "          const dataTable =\n",
              "            await google.colab.kernel.invokeFunction('convertToInteractive',\n",
              "                                                     [key], {});\n",
              "          if (!dataTable) return;\n",
              "\n",
              "          const docLinkHtml = 'Like what you see? Visit the ' +\n",
              "            '<a target=\"_blank\" href=https://colab.research.google.com/notebooks/data_table.ipynb>data table notebook</a>'\n",
              "            + ' to learn more about interactive tables.';\n",
              "          element.innerHTML = '';\n",
              "          dataTable['output_type'] = 'display_data';\n",
              "          await google.colab.output.renderOutput(dataTable, element);\n",
              "          const docLink = document.createElement('div');\n",
              "          docLink.innerHTML = docLinkHtml;\n",
              "          element.appendChild(docLink);\n",
              "        }\n",
              "      </script>\n",
              "    </div>\n",
              "  </div>\n",
              "  "
            ]
          },
          "metadata": {},
          "execution_count": 42
        }
      ]
    },
    {
      "cell_type": "markdown",
      "source": [
        "\n",
        "## Rating, Reviews and Price To Numeric\n",
        "Lets go ahead and convert these columns to numeric."
      ],
      "metadata": {
        "id": "CwaD9LYO0BXE"
      }
    },
    {
      "cell_type": "code",
      "source": [
        "# remove $ from price column\n",
        "\n",
        "def remove_money_symbol(df, col):\n",
        "    df[col] = pd.to_numeric(df[col].str.replace('$', ''))\n",
        "\n",
        "remove_money_symbol(df, 'price')"
      ],
      "metadata": {
        "colab": {
          "base_uri": "https://localhost:8080/"
        },
        "id": "DL79tI4D0CjA",
        "outputId": "a6368551-d7ee-45ae-e7c7-fd0d23031a55"
      },
      "execution_count": 43,
      "outputs": [
        {
          "output_type": "stream",
          "name": "stderr",
          "text": [
            "/usr/local/lib/python3.7/dist-packages/ipykernel_launcher.py:4: FutureWarning: The default value of regex will change from True to False in a future version. In addition, single character regular expressions will *not* be treated as literal strings when regex=True.\n",
            "  after removing the cwd from sys.path.\n"
          ]
        }
      ]
    },
    {
      "cell_type": "code",
      "source": [
        "df['rating'] = to_numeric(df, 'rating')\n",
        "df['price'] = to_numeric(df, 'price')\n",
        "df['reviews'] = to_numeric(df, 'reviews')"
      ],
      "metadata": {
        "id": "gBeHxWY_0NK4"
      },
      "execution_count": 44,
      "outputs": []
    },
    {
      "cell_type": "markdown",
      "source": [
        "*Once again, lets use a fillna method grouped by category to take care of NaN values in price.*"
      ],
      "metadata": {
        "id": "ejaye7Kp0SDO"
      }
    },
    {
      "cell_type": "code",
      "source": [
        "df['price'] = df['price'].astype(float).fillna(df.groupby('category')['price'].transform('mean'))"
      ],
      "metadata": {
        "id": "enYGlU9E0TdN"
      },
      "execution_count": 45,
      "outputs": []
    },
    {
      "cell_type": "code",
      "source": [
        "df['rating'] = df['rating'].astype(float).fillna(df.groupby('category')['rating'].transform('mean'))"
      ],
      "metadata": {
        "id": "i0cPM0Hm0X0L"
      },
      "execution_count": 46,
      "outputs": []
    },
    {
      "cell_type": "code",
      "source": [
        "df.info()"
      ],
      "metadata": {
        "colab": {
          "base_uri": "https://localhost:8080/"
        },
        "id": "wut4oZZ10azw",
        "outputId": "dd5e7761-e0dc-495c-cedd-a74c48ef928c"
      },
      "execution_count": 47,
      "outputs": [
        {
          "output_type": "stream",
          "name": "stdout",
          "text": [
            "<class 'pandas.core.frame.DataFrame'>\n",
            "Int64Index: 10840 entries, 0 to 10840\n",
            "Data columns (total 11 columns):\n",
            " #   Column          Non-Null Count  Dtype  \n",
            "---  ------          --------------  -----  \n",
            " 0   app             10840 non-null  object \n",
            " 1   category        10840 non-null  object \n",
            " 2   rating          10840 non-null  float64\n",
            " 3   reviews         10840 non-null  int64  \n",
            " 4   size(kb)        10840 non-null  float64\n",
            " 5   installs        10840 non-null  int64  \n",
            " 6   type            10839 non-null  object \n",
            " 7   price           10840 non-null  float64\n",
            " 8   content_rating  10840 non-null  object \n",
            " 9   genres          10840 non-null  object \n",
            " 10  last_updated    10840 non-null  int64  \n",
            "dtypes: float64(3), int64(3), object(5)\n",
            "memory usage: 1016.2+ KB\n"
          ]
        }
      ]
    },
    {
      "cell_type": "markdown",
      "source": [
        "\n",
        "## Type\n",
        "We see using .unique() that there is one null value. Upon further inspection of this value, it seems nonsensical so we will drop this row."
      ],
      "metadata": {
        "id": "wpDLTj0l0gO-"
      }
    },
    {
      "cell_type": "code",
      "source": [
        "df['type'].unique()"
      ],
      "metadata": {
        "colab": {
          "base_uri": "https://localhost:8080/"
        },
        "id": "f-NvQZQk0hgt",
        "outputId": "10af5ef4-6f38-45ae-c0d7-de0c6240a34a"
      },
      "execution_count": 48,
      "outputs": [
        {
          "output_type": "execute_result",
          "data": {
            "text/plain": [
              "array(['FREE', 'PAID', nan], dtype=object)"
            ]
          },
          "metadata": {},
          "execution_count": 48
        }
      ]
    },
    {
      "cell_type": "code",
      "source": [
        "df.loc[df['type'].isnull()]"
      ],
      "metadata": {
        "colab": {
          "base_uri": "https://localhost:8080/",
          "height": 81
        },
        "id": "cOi7B0ya0mzw",
        "outputId": "e6498ecc-6426-495e-eef3-a70b63b7b0c6"
      },
      "execution_count": 49,
      "outputs": [
        {
          "output_type": "execute_result",
          "data": {
            "text/plain": [
              "                            app category    rating  reviews      size(kb)  \\\n",
              "9148  COMMAND & CONQUER: RIVALS   FAMILY  4.192272        0  28998.679803   \n",
              "\n",
              "      installs type  price content_rating    genres  last_updated  \n",
              "9148         0  NaN    0.0   EVERYONE 10+  STRATEGY          2018  "
            ],
            "text/html": [
              "\n",
              "  <div id=\"df-18713946-9fc3-4f01-82b1-d5eb86700ea7\">\n",
              "    <div class=\"colab-df-container\">\n",
              "      <div>\n",
              "<style scoped>\n",
              "    .dataframe tbody tr th:only-of-type {\n",
              "        vertical-align: middle;\n",
              "    }\n",
              "\n",
              "    .dataframe tbody tr th {\n",
              "        vertical-align: top;\n",
              "    }\n",
              "\n",
              "    .dataframe thead th {\n",
              "        text-align: right;\n",
              "    }\n",
              "</style>\n",
              "<table border=\"1\" class=\"dataframe\">\n",
              "  <thead>\n",
              "    <tr style=\"text-align: right;\">\n",
              "      <th></th>\n",
              "      <th>app</th>\n",
              "      <th>category</th>\n",
              "      <th>rating</th>\n",
              "      <th>reviews</th>\n",
              "      <th>size(kb)</th>\n",
              "      <th>installs</th>\n",
              "      <th>type</th>\n",
              "      <th>price</th>\n",
              "      <th>content_rating</th>\n",
              "      <th>genres</th>\n",
              "      <th>last_updated</th>\n",
              "    </tr>\n",
              "  </thead>\n",
              "  <tbody>\n",
              "    <tr>\n",
              "      <th>9148</th>\n",
              "      <td>COMMAND &amp; CONQUER: RIVALS</td>\n",
              "      <td>FAMILY</td>\n",
              "      <td>4.192272</td>\n",
              "      <td>0</td>\n",
              "      <td>28998.679803</td>\n",
              "      <td>0</td>\n",
              "      <td>NaN</td>\n",
              "      <td>0.0</td>\n",
              "      <td>EVERYONE 10+</td>\n",
              "      <td>STRATEGY</td>\n",
              "      <td>2018</td>\n",
              "    </tr>\n",
              "  </tbody>\n",
              "</table>\n",
              "</div>\n",
              "      <button class=\"colab-df-convert\" onclick=\"convertToInteractive('df-18713946-9fc3-4f01-82b1-d5eb86700ea7')\"\n",
              "              title=\"Convert this dataframe to an interactive table.\"\n",
              "              style=\"display:none;\">\n",
              "        \n",
              "  <svg xmlns=\"http://www.w3.org/2000/svg\" height=\"24px\"viewBox=\"0 0 24 24\"\n",
              "       width=\"24px\">\n",
              "    <path d=\"M0 0h24v24H0V0z\" fill=\"none\"/>\n",
              "    <path d=\"M18.56 5.44l.94 2.06.94-2.06 2.06-.94-2.06-.94-.94-2.06-.94 2.06-2.06.94zm-11 1L8.5 8.5l.94-2.06 2.06-.94-2.06-.94L8.5 2.5l-.94 2.06-2.06.94zm10 10l.94 2.06.94-2.06 2.06-.94-2.06-.94-.94-2.06-.94 2.06-2.06.94z\"/><path d=\"M17.41 7.96l-1.37-1.37c-.4-.4-.92-.59-1.43-.59-.52 0-1.04.2-1.43.59L10.3 9.45l-7.72 7.72c-.78.78-.78 2.05 0 2.83L4 21.41c.39.39.9.59 1.41.59.51 0 1.02-.2 1.41-.59l7.78-7.78 2.81-2.81c.8-.78.8-2.07 0-2.86zM5.41 20L4 18.59l7.72-7.72 1.47 1.35L5.41 20z\"/>\n",
              "  </svg>\n",
              "      </button>\n",
              "      \n",
              "  <style>\n",
              "    .colab-df-container {\n",
              "      display:flex;\n",
              "      flex-wrap:wrap;\n",
              "      gap: 12px;\n",
              "    }\n",
              "\n",
              "    .colab-df-convert {\n",
              "      background-color: #E8F0FE;\n",
              "      border: none;\n",
              "      border-radius: 50%;\n",
              "      cursor: pointer;\n",
              "      display: none;\n",
              "      fill: #1967D2;\n",
              "      height: 32px;\n",
              "      padding: 0 0 0 0;\n",
              "      width: 32px;\n",
              "    }\n",
              "\n",
              "    .colab-df-convert:hover {\n",
              "      background-color: #E2EBFA;\n",
              "      box-shadow: 0px 1px 2px rgba(60, 64, 67, 0.3), 0px 1px 3px 1px rgba(60, 64, 67, 0.15);\n",
              "      fill: #174EA6;\n",
              "    }\n",
              "\n",
              "    [theme=dark] .colab-df-convert {\n",
              "      background-color: #3B4455;\n",
              "      fill: #D2E3FC;\n",
              "    }\n",
              "\n",
              "    [theme=dark] .colab-df-convert:hover {\n",
              "      background-color: #434B5C;\n",
              "      box-shadow: 0px 1px 3px 1px rgba(0, 0, 0, 0.15);\n",
              "      filter: drop-shadow(0px 1px 2px rgba(0, 0, 0, 0.3));\n",
              "      fill: #FFFFFF;\n",
              "    }\n",
              "  </style>\n",
              "\n",
              "      <script>\n",
              "        const buttonEl =\n",
              "          document.querySelector('#df-18713946-9fc3-4f01-82b1-d5eb86700ea7 button.colab-df-convert');\n",
              "        buttonEl.style.display =\n",
              "          google.colab.kernel.accessAllowed ? 'block' : 'none';\n",
              "\n",
              "        async function convertToInteractive(key) {\n",
              "          const element = document.querySelector('#df-18713946-9fc3-4f01-82b1-d5eb86700ea7');\n",
              "          const dataTable =\n",
              "            await google.colab.kernel.invokeFunction('convertToInteractive',\n",
              "                                                     [key], {});\n",
              "          if (!dataTable) return;\n",
              "\n",
              "          const docLinkHtml = 'Like what you see? Visit the ' +\n",
              "            '<a target=\"_blank\" href=https://colab.research.google.com/notebooks/data_table.ipynb>data table notebook</a>'\n",
              "            + ' to learn more about interactive tables.';\n",
              "          element.innerHTML = '';\n",
              "          dataTable['output_type'] = 'display_data';\n",
              "          await google.colab.output.renderOutput(dataTable, element);\n",
              "          const docLink = document.createElement('div');\n",
              "          docLink.innerHTML = docLinkHtml;\n",
              "          element.appendChild(docLink);\n",
              "        }\n",
              "      </script>\n",
              "    </div>\n",
              "  </div>\n",
              "  "
            ]
          },
          "metadata": {},
          "execution_count": 49
        }
      ]
    },
    {
      "cell_type": "code",
      "source": [
        "df.dropna(subset=['type'], inplace=True)"
      ],
      "metadata": {
        "id": "LsfBOTlu0nNc"
      },
      "execution_count": 50,
      "outputs": []
    },
    {
      "cell_type": "markdown",
      "source": [
        "*Now we will do sum final check of the data set with .info and .sample before going into EDA*"
      ],
      "metadata": {
        "id": "wnNQ9NmK0ukN"
      }
    },
    {
      "cell_type": "code",
      "source": [
        "df.info()"
      ],
      "metadata": {
        "colab": {
          "base_uri": "https://localhost:8080/"
        },
        "id": "E5coGaOA0uGg",
        "outputId": "ad344966-75dd-4c96-986b-763cc6c07585"
      },
      "execution_count": 51,
      "outputs": [
        {
          "output_type": "stream",
          "name": "stdout",
          "text": [
            "<class 'pandas.core.frame.DataFrame'>\n",
            "Int64Index: 10839 entries, 0 to 10840\n",
            "Data columns (total 11 columns):\n",
            " #   Column          Non-Null Count  Dtype  \n",
            "---  ------          --------------  -----  \n",
            " 0   app             10839 non-null  object \n",
            " 1   category        10839 non-null  object \n",
            " 2   rating          10839 non-null  float64\n",
            " 3   reviews         10839 non-null  int64  \n",
            " 4   size(kb)        10839 non-null  float64\n",
            " 5   installs        10839 non-null  int64  \n",
            " 6   type            10839 non-null  object \n",
            " 7   price           10839 non-null  float64\n",
            " 8   content_rating  10839 non-null  object \n",
            " 9   genres          10839 non-null  object \n",
            " 10  last_updated    10839 non-null  int64  \n",
            "dtypes: float64(3), int64(3), object(5)\n",
            "memory usage: 1016.2+ KB\n"
          ]
        }
      ]
    },
    {
      "cell_type": "code",
      "source": [
        "df.sample(5)"
      ],
      "metadata": {
        "colab": {
          "base_uri": "https://localhost:8080/",
          "height": 285
        },
        "id": "n4K1lYg10pwD",
        "outputId": "a99e4e4f-c671-4302-9b62-32a0e042590a"
      },
      "execution_count": 52,
      "outputs": [
        {
          "output_type": "execute_result",
          "data": {
            "text/plain": [
              "                                                  app             category  \\\n",
              "186                      ENGLISH DICTIONARY - OFFLINE  BOOKS_AND_REFERENCE   \n",
              "2785                       FIND&SAVE - LOCAL SHOPPING             SHOPPING   \n",
              "2441                PCOS GUIDE - FIGHT PCOS NATURALLY              MEDICAL   \n",
              "2881                            BLUR IMAGE BACKGROUND          PHOTOGRAPHY   \n",
              "2848  CANDY SELFIE - PHOTO EDITOR, LIVE FILTER CAMERA          PHOTOGRAPHY   \n",
              "\n",
              "        rating  reviews  size(kb)  installs  type  price content_rating  \\\n",
              "186   4.400000   341157   30720.0  10000000  FREE    0.0   EVERYONE 10+   \n",
              "2785  4.000000     4602    6348.8    500000  FREE    0.0       EVERYONE   \n",
              "2441  4.189143        0    5222.4       100  FREE    0.0       EVERYONE   \n",
              "2881  3.900000   129272   11264.0  10000000  FREE    0.0       EVERYONE   \n",
              "2848  4.400000    53421   26624.0  10000000  FREE    0.0       EVERYONE   \n",
              "\n",
              "                 genres  last_updated  \n",
              "186   BOOKS & REFERENCE          2018  \n",
              "2785           SHOPPING          2017  \n",
              "2441            MEDICAL          2018  \n",
              "2881        PHOTOGRAPHY          2018  \n",
              "2848        PHOTOGRAPHY          2018  "
            ],
            "text/html": [
              "\n",
              "  <div id=\"df-a109a44a-de11-4532-8f4f-dab0b961f31d\">\n",
              "    <div class=\"colab-df-container\">\n",
              "      <div>\n",
              "<style scoped>\n",
              "    .dataframe tbody tr th:only-of-type {\n",
              "        vertical-align: middle;\n",
              "    }\n",
              "\n",
              "    .dataframe tbody tr th {\n",
              "        vertical-align: top;\n",
              "    }\n",
              "\n",
              "    .dataframe thead th {\n",
              "        text-align: right;\n",
              "    }\n",
              "</style>\n",
              "<table border=\"1\" class=\"dataframe\">\n",
              "  <thead>\n",
              "    <tr style=\"text-align: right;\">\n",
              "      <th></th>\n",
              "      <th>app</th>\n",
              "      <th>category</th>\n",
              "      <th>rating</th>\n",
              "      <th>reviews</th>\n",
              "      <th>size(kb)</th>\n",
              "      <th>installs</th>\n",
              "      <th>type</th>\n",
              "      <th>price</th>\n",
              "      <th>content_rating</th>\n",
              "      <th>genres</th>\n",
              "      <th>last_updated</th>\n",
              "    </tr>\n",
              "  </thead>\n",
              "  <tbody>\n",
              "    <tr>\n",
              "      <th>186</th>\n",
              "      <td>ENGLISH DICTIONARY - OFFLINE</td>\n",
              "      <td>BOOKS_AND_REFERENCE</td>\n",
              "      <td>4.400000</td>\n",
              "      <td>341157</td>\n",
              "      <td>30720.0</td>\n",
              "      <td>10000000</td>\n",
              "      <td>FREE</td>\n",
              "      <td>0.0</td>\n",
              "      <td>EVERYONE 10+</td>\n",
              "      <td>BOOKS &amp; REFERENCE</td>\n",
              "      <td>2018</td>\n",
              "    </tr>\n",
              "    <tr>\n",
              "      <th>2785</th>\n",
              "      <td>FIND&amp;SAVE - LOCAL SHOPPING</td>\n",
              "      <td>SHOPPING</td>\n",
              "      <td>4.000000</td>\n",
              "      <td>4602</td>\n",
              "      <td>6348.8</td>\n",
              "      <td>500000</td>\n",
              "      <td>FREE</td>\n",
              "      <td>0.0</td>\n",
              "      <td>EVERYONE</td>\n",
              "      <td>SHOPPING</td>\n",
              "      <td>2017</td>\n",
              "    </tr>\n",
              "    <tr>\n",
              "      <th>2441</th>\n",
              "      <td>PCOS GUIDE - FIGHT PCOS NATURALLY</td>\n",
              "      <td>MEDICAL</td>\n",
              "      <td>4.189143</td>\n",
              "      <td>0</td>\n",
              "      <td>5222.4</td>\n",
              "      <td>100</td>\n",
              "      <td>FREE</td>\n",
              "      <td>0.0</td>\n",
              "      <td>EVERYONE</td>\n",
              "      <td>MEDICAL</td>\n",
              "      <td>2018</td>\n",
              "    </tr>\n",
              "    <tr>\n",
              "      <th>2881</th>\n",
              "      <td>BLUR IMAGE BACKGROUND</td>\n",
              "      <td>PHOTOGRAPHY</td>\n",
              "      <td>3.900000</td>\n",
              "      <td>129272</td>\n",
              "      <td>11264.0</td>\n",
              "      <td>10000000</td>\n",
              "      <td>FREE</td>\n",
              "      <td>0.0</td>\n",
              "      <td>EVERYONE</td>\n",
              "      <td>PHOTOGRAPHY</td>\n",
              "      <td>2018</td>\n",
              "    </tr>\n",
              "    <tr>\n",
              "      <th>2848</th>\n",
              "      <td>CANDY SELFIE - PHOTO EDITOR, LIVE FILTER CAMERA</td>\n",
              "      <td>PHOTOGRAPHY</td>\n",
              "      <td>4.400000</td>\n",
              "      <td>53421</td>\n",
              "      <td>26624.0</td>\n",
              "      <td>10000000</td>\n",
              "      <td>FREE</td>\n",
              "      <td>0.0</td>\n",
              "      <td>EVERYONE</td>\n",
              "      <td>PHOTOGRAPHY</td>\n",
              "      <td>2018</td>\n",
              "    </tr>\n",
              "  </tbody>\n",
              "</table>\n",
              "</div>\n",
              "      <button class=\"colab-df-convert\" onclick=\"convertToInteractive('df-a109a44a-de11-4532-8f4f-dab0b961f31d')\"\n",
              "              title=\"Convert this dataframe to an interactive table.\"\n",
              "              style=\"display:none;\">\n",
              "        \n",
              "  <svg xmlns=\"http://www.w3.org/2000/svg\" height=\"24px\"viewBox=\"0 0 24 24\"\n",
              "       width=\"24px\">\n",
              "    <path d=\"M0 0h24v24H0V0z\" fill=\"none\"/>\n",
              "    <path d=\"M18.56 5.44l.94 2.06.94-2.06 2.06-.94-2.06-.94-.94-2.06-.94 2.06-2.06.94zm-11 1L8.5 8.5l.94-2.06 2.06-.94-2.06-.94L8.5 2.5l-.94 2.06-2.06.94zm10 10l.94 2.06.94-2.06 2.06-.94-2.06-.94-.94-2.06-.94 2.06-2.06.94z\"/><path d=\"M17.41 7.96l-1.37-1.37c-.4-.4-.92-.59-1.43-.59-.52 0-1.04.2-1.43.59L10.3 9.45l-7.72 7.72c-.78.78-.78 2.05 0 2.83L4 21.41c.39.39.9.59 1.41.59.51 0 1.02-.2 1.41-.59l7.78-7.78 2.81-2.81c.8-.78.8-2.07 0-2.86zM5.41 20L4 18.59l7.72-7.72 1.47 1.35L5.41 20z\"/>\n",
              "  </svg>\n",
              "      </button>\n",
              "      \n",
              "  <style>\n",
              "    .colab-df-container {\n",
              "      display:flex;\n",
              "      flex-wrap:wrap;\n",
              "      gap: 12px;\n",
              "    }\n",
              "\n",
              "    .colab-df-convert {\n",
              "      background-color: #E8F0FE;\n",
              "      border: none;\n",
              "      border-radius: 50%;\n",
              "      cursor: pointer;\n",
              "      display: none;\n",
              "      fill: #1967D2;\n",
              "      height: 32px;\n",
              "      padding: 0 0 0 0;\n",
              "      width: 32px;\n",
              "    }\n",
              "\n",
              "    .colab-df-convert:hover {\n",
              "      background-color: #E2EBFA;\n",
              "      box-shadow: 0px 1px 2px rgba(60, 64, 67, 0.3), 0px 1px 3px 1px rgba(60, 64, 67, 0.15);\n",
              "      fill: #174EA6;\n",
              "    }\n",
              "\n",
              "    [theme=dark] .colab-df-convert {\n",
              "      background-color: #3B4455;\n",
              "      fill: #D2E3FC;\n",
              "    }\n",
              "\n",
              "    [theme=dark] .colab-df-convert:hover {\n",
              "      background-color: #434B5C;\n",
              "      box-shadow: 0px 1px 3px 1px rgba(0, 0, 0, 0.15);\n",
              "      filter: drop-shadow(0px 1px 2px rgba(0, 0, 0, 0.3));\n",
              "      fill: #FFFFFF;\n",
              "    }\n",
              "  </style>\n",
              "\n",
              "      <script>\n",
              "        const buttonEl =\n",
              "          document.querySelector('#df-a109a44a-de11-4532-8f4f-dab0b961f31d button.colab-df-convert');\n",
              "        buttonEl.style.display =\n",
              "          google.colab.kernel.accessAllowed ? 'block' : 'none';\n",
              "\n",
              "        async function convertToInteractive(key) {\n",
              "          const element = document.querySelector('#df-a109a44a-de11-4532-8f4f-dab0b961f31d');\n",
              "          const dataTable =\n",
              "            await google.colab.kernel.invokeFunction('convertToInteractive',\n",
              "                                                     [key], {});\n",
              "          if (!dataTable) return;\n",
              "\n",
              "          const docLinkHtml = 'Like what you see? Visit the ' +\n",
              "            '<a target=\"_blank\" href=https://colab.research.google.com/notebooks/data_table.ipynb>data table notebook</a>'\n",
              "            + ' to learn more about interactive tables.';\n",
              "          element.innerHTML = '';\n",
              "          dataTable['output_type'] = 'display_data';\n",
              "          await google.colab.output.renderOutput(dataTable, element);\n",
              "          const docLink = document.createElement('div');\n",
              "          docLink.innerHTML = docLinkHtml;\n",
              "          element.appendChild(docLink);\n",
              "        }\n",
              "      </script>\n",
              "    </div>\n",
              "  </div>\n",
              "  "
            ]
          },
          "metadata": {},
          "execution_count": 52
        }
      ]
    },
    {
      "cell_type": "code",
      "source": [
        "df.head(-10)"
      ],
      "metadata": {
        "colab": {
          "base_uri": "https://localhost:8080/",
          "height": 572
        },
        "id": "kCPYRrmn00cJ",
        "outputId": "430b475f-97ee-4e4f-eaf7-f858816fae58"
      },
      "execution_count": 53,
      "outputs": [
        {
          "output_type": "execute_result",
          "data": {
            "text/plain": [
              "                                                     app             category  \\\n",
              "0         PHOTO EDITOR & CANDY CAMERA & GRID & SCRAPBOOK       ART_AND_DESIGN   \n",
              "1                                    COLORING BOOK MOANA       ART_AND_DESIGN   \n",
              "2      U LAUNCHER LITE – FREE LIVE COOL THEMES, HIDE ...       ART_AND_DESIGN   \n",
              "3                                  SKETCH - DRAW & PAINT       ART_AND_DESIGN   \n",
              "4                  PIXEL DRAW - NUMBER ART COLORING BOOK       ART_AND_DESIGN   \n",
              "...                                                  ...                  ...   \n",
              "10826          FRIM: GET NEW FRIENDS ON LOCAL CHAT ROOMS               SOCIAL   \n",
              "10827                                 FR AGNEL AMBARNATH               FAMILY   \n",
              "10828                            MANGA-FR - ANIME VOSTFR               COMICS   \n",
              "10829                     BULGARIAN FRENCH DICTIONARY FR  BOOKS_AND_REFERENCE   \n",
              "10830                                  NEWS MINECRAFT.FR   NEWS_AND_MAGAZINES   \n",
              "\n",
              "       rating  reviews      size(kb)  installs  type  price content_rating  \\\n",
              "0         4.1      159  19456.000000     10000  FREE    0.0       EVERYONE   \n",
              "1         3.9      967  14336.000000    500000  FREE    0.0       EVERYONE   \n",
              "2         4.7    87510   8908.800000   5000000  FREE    0.0       EVERYONE   \n",
              "3         4.5   215644  25600.000000  50000000  FREE    0.0           TEEN   \n",
              "4         4.3      967   2867.200000    100000  FREE    0.0       EVERYONE   \n",
              "...       ...      ...           ...       ...   ...    ...            ...   \n",
              "10826     4.0    88486  18106.031429   5000000  FREE    0.0     MATURE 17+   \n",
              "10827     4.2      117  13312.000000      5000  FREE    0.0       EVERYONE   \n",
              "10828     3.4      291  13312.000000     10000  FREE    0.0       EVERYONE   \n",
              "10829     4.6      603   7577.600000     10000  FREE    0.0       EVERYONE   \n",
              "10830     3.8      881   2355.200000    100000  FREE    0.0       EVERYONE   \n",
              "\n",
              "                          genres  last_updated  \n",
              "0                   ART & DESIGN          2018  \n",
              "1      ART & DESIGN;PRETEND PLAY          2018  \n",
              "2                   ART & DESIGN          2018  \n",
              "3                   ART & DESIGN          2018  \n",
              "4        ART & DESIGN;CREATIVITY          2018  \n",
              "...                          ...           ...  \n",
              "10826                     SOCIAL          2018  \n",
              "10827                  EDUCATION          2018  \n",
              "10828                     COMICS          2017  \n",
              "10829          BOOKS & REFERENCE          2016  \n",
              "10830           NEWS & MAGAZINES          2014  \n",
              "\n",
              "[10829 rows x 11 columns]"
            ],
            "text/html": [
              "\n",
              "  <div id=\"df-34b6a848-5a65-4b35-a51a-cb560a87aa3e\">\n",
              "    <div class=\"colab-df-container\">\n",
              "      <div>\n",
              "<style scoped>\n",
              "    .dataframe tbody tr th:only-of-type {\n",
              "        vertical-align: middle;\n",
              "    }\n",
              "\n",
              "    .dataframe tbody tr th {\n",
              "        vertical-align: top;\n",
              "    }\n",
              "\n",
              "    .dataframe thead th {\n",
              "        text-align: right;\n",
              "    }\n",
              "</style>\n",
              "<table border=\"1\" class=\"dataframe\">\n",
              "  <thead>\n",
              "    <tr style=\"text-align: right;\">\n",
              "      <th></th>\n",
              "      <th>app</th>\n",
              "      <th>category</th>\n",
              "      <th>rating</th>\n",
              "      <th>reviews</th>\n",
              "      <th>size(kb)</th>\n",
              "      <th>installs</th>\n",
              "      <th>type</th>\n",
              "      <th>price</th>\n",
              "      <th>content_rating</th>\n",
              "      <th>genres</th>\n",
              "      <th>last_updated</th>\n",
              "    </tr>\n",
              "  </thead>\n",
              "  <tbody>\n",
              "    <tr>\n",
              "      <th>0</th>\n",
              "      <td>PHOTO EDITOR &amp; CANDY CAMERA &amp; GRID &amp; SCRAPBOOK</td>\n",
              "      <td>ART_AND_DESIGN</td>\n",
              "      <td>4.1</td>\n",
              "      <td>159</td>\n",
              "      <td>19456.000000</td>\n",
              "      <td>10000</td>\n",
              "      <td>FREE</td>\n",
              "      <td>0.0</td>\n",
              "      <td>EVERYONE</td>\n",
              "      <td>ART &amp; DESIGN</td>\n",
              "      <td>2018</td>\n",
              "    </tr>\n",
              "    <tr>\n",
              "      <th>1</th>\n",
              "      <td>COLORING BOOK MOANA</td>\n",
              "      <td>ART_AND_DESIGN</td>\n",
              "      <td>3.9</td>\n",
              "      <td>967</td>\n",
              "      <td>14336.000000</td>\n",
              "      <td>500000</td>\n",
              "      <td>FREE</td>\n",
              "      <td>0.0</td>\n",
              "      <td>EVERYONE</td>\n",
              "      <td>ART &amp; DESIGN;PRETEND PLAY</td>\n",
              "      <td>2018</td>\n",
              "    </tr>\n",
              "    <tr>\n",
              "      <th>2</th>\n",
              "      <td>U LAUNCHER LITE – FREE LIVE COOL THEMES, HIDE ...</td>\n",
              "      <td>ART_AND_DESIGN</td>\n",
              "      <td>4.7</td>\n",
              "      <td>87510</td>\n",
              "      <td>8908.800000</td>\n",
              "      <td>5000000</td>\n",
              "      <td>FREE</td>\n",
              "      <td>0.0</td>\n",
              "      <td>EVERYONE</td>\n",
              "      <td>ART &amp; DESIGN</td>\n",
              "      <td>2018</td>\n",
              "    </tr>\n",
              "    <tr>\n",
              "      <th>3</th>\n",
              "      <td>SKETCH - DRAW &amp; PAINT</td>\n",
              "      <td>ART_AND_DESIGN</td>\n",
              "      <td>4.5</td>\n",
              "      <td>215644</td>\n",
              "      <td>25600.000000</td>\n",
              "      <td>50000000</td>\n",
              "      <td>FREE</td>\n",
              "      <td>0.0</td>\n",
              "      <td>TEEN</td>\n",
              "      <td>ART &amp; DESIGN</td>\n",
              "      <td>2018</td>\n",
              "    </tr>\n",
              "    <tr>\n",
              "      <th>4</th>\n",
              "      <td>PIXEL DRAW - NUMBER ART COLORING BOOK</td>\n",
              "      <td>ART_AND_DESIGN</td>\n",
              "      <td>4.3</td>\n",
              "      <td>967</td>\n",
              "      <td>2867.200000</td>\n",
              "      <td>100000</td>\n",
              "      <td>FREE</td>\n",
              "      <td>0.0</td>\n",
              "      <td>EVERYONE</td>\n",
              "      <td>ART &amp; DESIGN;CREATIVITY</td>\n",
              "      <td>2018</td>\n",
              "    </tr>\n",
              "    <tr>\n",
              "      <th>...</th>\n",
              "      <td>...</td>\n",
              "      <td>...</td>\n",
              "      <td>...</td>\n",
              "      <td>...</td>\n",
              "      <td>...</td>\n",
              "      <td>...</td>\n",
              "      <td>...</td>\n",
              "      <td>...</td>\n",
              "      <td>...</td>\n",
              "      <td>...</td>\n",
              "      <td>...</td>\n",
              "    </tr>\n",
              "    <tr>\n",
              "      <th>10826</th>\n",
              "      <td>FRIM: GET NEW FRIENDS ON LOCAL CHAT ROOMS</td>\n",
              "      <td>SOCIAL</td>\n",
              "      <td>4.0</td>\n",
              "      <td>88486</td>\n",
              "      <td>18106.031429</td>\n",
              "      <td>5000000</td>\n",
              "      <td>FREE</td>\n",
              "      <td>0.0</td>\n",
              "      <td>MATURE 17+</td>\n",
              "      <td>SOCIAL</td>\n",
              "      <td>2018</td>\n",
              "    </tr>\n",
              "    <tr>\n",
              "      <th>10827</th>\n",
              "      <td>FR AGNEL AMBARNATH</td>\n",
              "      <td>FAMILY</td>\n",
              "      <td>4.2</td>\n",
              "      <td>117</td>\n",
              "      <td>13312.000000</td>\n",
              "      <td>5000</td>\n",
              "      <td>FREE</td>\n",
              "      <td>0.0</td>\n",
              "      <td>EVERYONE</td>\n",
              "      <td>EDUCATION</td>\n",
              "      <td>2018</td>\n",
              "    </tr>\n",
              "    <tr>\n",
              "      <th>10828</th>\n",
              "      <td>MANGA-FR - ANIME VOSTFR</td>\n",
              "      <td>COMICS</td>\n",
              "      <td>3.4</td>\n",
              "      <td>291</td>\n",
              "      <td>13312.000000</td>\n",
              "      <td>10000</td>\n",
              "      <td>FREE</td>\n",
              "      <td>0.0</td>\n",
              "      <td>EVERYONE</td>\n",
              "      <td>COMICS</td>\n",
              "      <td>2017</td>\n",
              "    </tr>\n",
              "    <tr>\n",
              "      <th>10829</th>\n",
              "      <td>BULGARIAN FRENCH DICTIONARY FR</td>\n",
              "      <td>BOOKS_AND_REFERENCE</td>\n",
              "      <td>4.6</td>\n",
              "      <td>603</td>\n",
              "      <td>7577.600000</td>\n",
              "      <td>10000</td>\n",
              "      <td>FREE</td>\n",
              "      <td>0.0</td>\n",
              "      <td>EVERYONE</td>\n",
              "      <td>BOOKS &amp; REFERENCE</td>\n",
              "      <td>2016</td>\n",
              "    </tr>\n",
              "    <tr>\n",
              "      <th>10830</th>\n",
              "      <td>NEWS MINECRAFT.FR</td>\n",
              "      <td>NEWS_AND_MAGAZINES</td>\n",
              "      <td>3.8</td>\n",
              "      <td>881</td>\n",
              "      <td>2355.200000</td>\n",
              "      <td>100000</td>\n",
              "      <td>FREE</td>\n",
              "      <td>0.0</td>\n",
              "      <td>EVERYONE</td>\n",
              "      <td>NEWS &amp; MAGAZINES</td>\n",
              "      <td>2014</td>\n",
              "    </tr>\n",
              "  </tbody>\n",
              "</table>\n",
              "<p>10829 rows × 11 columns</p>\n",
              "</div>\n",
              "      <button class=\"colab-df-convert\" onclick=\"convertToInteractive('df-34b6a848-5a65-4b35-a51a-cb560a87aa3e')\"\n",
              "              title=\"Convert this dataframe to an interactive table.\"\n",
              "              style=\"display:none;\">\n",
              "        \n",
              "  <svg xmlns=\"http://www.w3.org/2000/svg\" height=\"24px\"viewBox=\"0 0 24 24\"\n",
              "       width=\"24px\">\n",
              "    <path d=\"M0 0h24v24H0V0z\" fill=\"none\"/>\n",
              "    <path d=\"M18.56 5.44l.94 2.06.94-2.06 2.06-.94-2.06-.94-.94-2.06-.94 2.06-2.06.94zm-11 1L8.5 8.5l.94-2.06 2.06-.94-2.06-.94L8.5 2.5l-.94 2.06-2.06.94zm10 10l.94 2.06.94-2.06 2.06-.94-2.06-.94-.94-2.06-.94 2.06-2.06.94z\"/><path d=\"M17.41 7.96l-1.37-1.37c-.4-.4-.92-.59-1.43-.59-.52 0-1.04.2-1.43.59L10.3 9.45l-7.72 7.72c-.78.78-.78 2.05 0 2.83L4 21.41c.39.39.9.59 1.41.59.51 0 1.02-.2 1.41-.59l7.78-7.78 2.81-2.81c.8-.78.8-2.07 0-2.86zM5.41 20L4 18.59l7.72-7.72 1.47 1.35L5.41 20z\"/>\n",
              "  </svg>\n",
              "      </button>\n",
              "      \n",
              "  <style>\n",
              "    .colab-df-container {\n",
              "      display:flex;\n",
              "      flex-wrap:wrap;\n",
              "      gap: 12px;\n",
              "    }\n",
              "\n",
              "    .colab-df-convert {\n",
              "      background-color: #E8F0FE;\n",
              "      border: none;\n",
              "      border-radius: 50%;\n",
              "      cursor: pointer;\n",
              "      display: none;\n",
              "      fill: #1967D2;\n",
              "      height: 32px;\n",
              "      padding: 0 0 0 0;\n",
              "      width: 32px;\n",
              "    }\n",
              "\n",
              "    .colab-df-convert:hover {\n",
              "      background-color: #E2EBFA;\n",
              "      box-shadow: 0px 1px 2px rgba(60, 64, 67, 0.3), 0px 1px 3px 1px rgba(60, 64, 67, 0.15);\n",
              "      fill: #174EA6;\n",
              "    }\n",
              "\n",
              "    [theme=dark] .colab-df-convert {\n",
              "      background-color: #3B4455;\n",
              "      fill: #D2E3FC;\n",
              "    }\n",
              "\n",
              "    [theme=dark] .colab-df-convert:hover {\n",
              "      background-color: #434B5C;\n",
              "      box-shadow: 0px 1px 3px 1px rgba(0, 0, 0, 0.15);\n",
              "      filter: drop-shadow(0px 1px 2px rgba(0, 0, 0, 0.3));\n",
              "      fill: #FFFFFF;\n",
              "    }\n",
              "  </style>\n",
              "\n",
              "      <script>\n",
              "        const buttonEl =\n",
              "          document.querySelector('#df-34b6a848-5a65-4b35-a51a-cb560a87aa3e button.colab-df-convert');\n",
              "        buttonEl.style.display =\n",
              "          google.colab.kernel.accessAllowed ? 'block' : 'none';\n",
              "\n",
              "        async function convertToInteractive(key) {\n",
              "          const element = document.querySelector('#df-34b6a848-5a65-4b35-a51a-cb560a87aa3e');\n",
              "          const dataTable =\n",
              "            await google.colab.kernel.invokeFunction('convertToInteractive',\n",
              "                                                     [key], {});\n",
              "          if (!dataTable) return;\n",
              "\n",
              "          const docLinkHtml = 'Like what you see? Visit the ' +\n",
              "            '<a target=\"_blank\" href=https://colab.research.google.com/notebooks/data_table.ipynb>data table notebook</a>'\n",
              "            + ' to learn more about interactive tables.';\n",
              "          element.innerHTML = '';\n",
              "          dataTable['output_type'] = 'display_data';\n",
              "          await google.colab.output.renderOutput(dataTable, element);\n",
              "          const docLink = document.createElement('div');\n",
              "          docLink.innerHTML = docLinkHtml;\n",
              "          element.appendChild(docLink);\n",
              "        }\n",
              "      </script>\n",
              "    </div>\n",
              "  </div>\n",
              "  "
            ]
          },
          "metadata": {},
          "execution_count": 53
        }
      ]
    },
    {
      "cell_type": "markdown",
      "source": [
        "\n",
        "## 3. EDA Phase\n",
        "Now that our data is clean and standardized, lets find some insights. The main categories that i'm trying to find more information about are installs,rating, and category. Meaning that I am trying to see if there are correlations in the data that could lead to insights and how people could maximize the amount of installs they get as well as increase rating."
      ],
      "metadata": {
        "id": "OeF7PfPQKqom"
      }
    },
    {
      "cell_type": "markdown",
      "source": [
        "\n",
        "How many of each category do we have?"
      ],
      "metadata": {
        "id": "Htz_876QKxK_"
      }
    },
    {
      "cell_type": "code",
      "source": [
        "plt.figure(figsize=(20, 5))\n",
        "fig = sns.histplot(x=df['category'], color='Blue')\n",
        "plt.xticks(rotation=70);\n"
      ],
      "metadata": {
        "id": "bSRdgPCW03GZ",
        "colab": {
          "base_uri": "https://localhost:8080/",
          "height": 446
        },
        "outputId": "97464942-f1cb-4a31-c80e-08f85cf272a1"
      },
      "execution_count": 54,
      "outputs": [
        {
          "output_type": "display_data",
          "data": {
            "text/plain": [
              "<Figure size 1440x360 with 1 Axes>"
            ],
            "image/png": "[encoded data removed]"
          },
          "metadata": {
            "needs_background": "light"
          }
        }
      ]
    },
    {
      "cell_type": "markdown",
      "source": [
        "\n",
        "## What is the distrubution of ratings?"
      ],
      "metadata": {
        "id": "vOmn9hRpK99_"
      }
    },
    {
      "cell_type": "code",
      "source": [
        "sns.histplot(data=df['rating'])\n",
        "plt.title('Histogram of Ratings')"
      ],
      "metadata": {
        "colab": {
          "base_uri": "https://localhost:8080/",
          "height": 312
        },
        "id": "Od2LKezfK4X_",
        "outputId": "4b2ff8ed-92ec-46a1-dc0a-d0df4dc8affd"
      },
      "execution_count": 55,
      "outputs": [
        {
          "output_type": "execute_result",
          "data": {
            "text/plain": [
              "Text(0.5, 1.0, 'Histogram of Ratings')"
            ]
          },
          "metadata": {},
          "execution_count": 55
        },
        {
          "output_type": "display_data",
          "data": {
            "text/plain": [
              "<Figure size 432x288 with 1 Axes>"
            ],
            "image/png": "[encoded data removed]"
          },
          "metadata": {
            "needs_background": "light"
          }
        }
      ]
    },
    {
      "cell_type": "markdown",
      "source": [
        "\n",
        "## Which categories had the most installations?"
      ],
      "metadata": {
        "id": "fIoTBke4LFec"
      }
    },
    {
      "cell_type": "code",
      "source": [
        "in_cat = df.groupby('category')['installs'].sum()\n",
        "in_cat = pd.DataFrame(in_cat).reset_index()"
      ],
      "metadata": {
        "id": "WVr-LeBqLBJg"
      },
      "execution_count": 56,
      "outputs": []
    },
    {
      "cell_type": "code",
      "source": [
        "plt.figure(figsize=(20, 5))\n",
        "order = df.groupby(['category'])['installs'].sum().sort_values(ascending=False).index\n",
        "sns.barplot(data=in_cat, x='category', y='installs', order=order)\n",
        "plt.title('Installations by Category')\n",
        "plt.xticks(rotation=75);"
      ],
      "metadata": {
        "colab": {
          "base_uri": "https://localhost:8080/",
          "height": 464
        },
        "id": "TQK_AlJyLIpT",
        "outputId": "8a81f76a-d2f3-4392-eda3-c17b7ed09516"
      },
      "execution_count": 57,
      "outputs": [
        {
          "output_type": "display_data",
          "data": {
            "text/plain": [
              "<Figure size 1440x360 with 1 Axes>"
            ],
            "image/png": "[encoded data removed]"
          },
          "metadata": {
            "needs_background": "light"
          }
        }
      ]
    },
    {
      "cell_type": "markdown",
      "source": [
        "\n",
        "## Does category correlate with rating?"
      ],
      "metadata": {
        "id": "VmFOZpkNLPs2"
      }
    },
    {
      "cell_type": "code",
      "source": [
        "plt.figure(figsize=(20, 8))\n",
        "sns.boxplot(data=df, x='category', y='rating')\n",
        "plt.title('Ratings vs Category')\n",
        "plt.xticks(rotation=75);"
      ],
      "metadata": {
        "colab": {
          "base_uri": "https://localhost:8080/",
          "height": 627
        },
        "id": "DpPl67ZTLMiz",
        "outputId": "3e8f3842-e3b2-46f3-c41c-ba59505def0c"
      },
      "execution_count": 58,
      "outputs": [
        {
          "output_type": "display_data",
          "data": {
            "text/plain": [
              "<Figure size 1440x576 with 1 Axes>"
            ],
            "image/png": "[encoded data removed]"
          },
          "metadata": {
            "needs_background": "light"
          }
        }
      ]
    },
    {
      "cell_type": "markdown",
      "source": [
        "We can see from these boxplots that the means of ratings across the different categories do not some very different."
      ],
      "metadata": {
        "id": "J2COKo47LZbA"
      }
    },
    {
      "cell_type": "markdown",
      "source": [
        "\n",
        "## How many apps are free vs paid?"
      ],
      "metadata": {
        "id": "2l5yPKGdLcB6"
      }
    },
    {
      "cell_type": "code",
      "source": [
        "sns.countplot(data=df, x='type')\n",
        "plt.title('Number of Free vs Paid Apps')"
      ],
      "metadata": {
        "colab": {
          "base_uri": "https://localhost:8080/",
          "height": 312
        },
        "id": "03Klj4nsLSXv",
        "outputId": "1fdc29ed-ff3b-4be6-b972-638290caff8b"
      },
      "execution_count": 60,
      "outputs": [
        {
          "output_type": "execute_result",
          "data": {
            "text/plain": [
              "Text(0.5, 1.0, 'Number of Free vs Paid Apps')"
            ]
          },
          "metadata": {},
          "execution_count": 60
        },
        {
          "output_type": "display_data",
          "data": {
            "text/plain": [
              "<Figure size 432x288 with 1 Axes>"
            ],
            "image/png": "[encoded data removed]"
          },
          "metadata": {
            "needs_background": "light"
          }
        }
      ]
    },
    {
      "cell_type": "markdown",
      "source": [
        "## What is the relationship between apps being type and number of installs?"
      ],
      "metadata": {
        "id": "v1Na4S5KLjBU"
      }
    },
    {
      "cell_type": "code",
      "source": [
        "in_type = df.groupby('type')['installs'].sum()\n",
        "in_type = pd.DataFrame(in_type).reset_index()\n",
        "\n",
        "# type vs installs table\n",
        "in_type"
      ],
      "metadata": {
        "colab": {
          "base_uri": "https://localhost:8080/",
          "height": 112
        },
        "id": "pq2haoAGLgNl",
        "outputId": "9df4ecd9-4094-4602-9642-fb191c318b2c"
      },
      "execution_count": 61,
      "outputs": [
        {
          "output_type": "execute_result",
          "data": {
            "text/plain": [
              "   type      installs\n",
              "0  FREE  167560477406\n",
              "1  PAID      72956081"
            ],
            "text/html": [
              "\n",
              "  <div id=\"df-236226a1-1500-4aea-bff8-4c51bc909078\">\n",
              "    <div class=\"colab-df-container\">\n",
              "      <div>\n",
              "<style scoped>\n",
              "    .dataframe tbody tr th:only-of-type {\n",
              "        vertical-align: middle;\n",
              "    }\n",
              "\n",
              "    .dataframe tbody tr th {\n",
              "        vertical-align: top;\n",
              "    }\n",
              "\n",
              "    .dataframe thead th {\n",
              "        text-align: right;\n",
              "    }\n",
              "</style>\n",
              "<table border=\"1\" class=\"dataframe\">\n",
              "  <thead>\n",
              "    <tr style=\"text-align: right;\">\n",
              "      <th></th>\n",
              "      <th>type</th>\n",
              "      <th>installs</th>\n",
              "    </tr>\n",
              "  </thead>\n",
              "  <tbody>\n",
              "    <tr>\n",
              "      <th>0</th>\n",
              "      <td>FREE</td>\n",
              "      <td>167560477406</td>\n",
              "    </tr>\n",
              "    <tr>\n",
              "      <th>1</th>\n",
              "      <td>PAID</td>\n",
              "      <td>72956081</td>\n",
              "    </tr>\n",
              "  </tbody>\n",
              "</table>\n",
              "</div>\n",
              "      <button class=\"colab-df-convert\" onclick=\"convertToInteractive('df-236226a1-1500-4aea-bff8-4c51bc909078')\"\n",
              "              title=\"Convert this dataframe to an interactive table.\"\n",
              "              style=\"display:none;\">\n",
              "        \n",
              "  <svg xmlns=\"http://www.w3.org/2000/svg\" height=\"24px\"viewBox=\"0 0 24 24\"\n",
              "       width=\"24px\">\n",
              "    <path d=\"M0 0h24v24H0V0z\" fill=\"none\"/>\n",
              "    <path d=\"M18.56 5.44l.94 2.06.94-2.06 2.06-.94-2.06-.94-.94-2.06-.94 2.06-2.06.94zm-11 1L8.5 8.5l.94-2.06 2.06-.94-2.06-.94L8.5 2.5l-.94 2.06-2.06.94zm10 10l.94 2.06.94-2.06 2.06-.94-2.06-.94-.94-2.06-.94 2.06-2.06.94z\"/><path d=\"M17.41 7.96l-1.37-1.37c-.4-.4-.92-.59-1.43-.59-.52 0-1.04.2-1.43.59L10.3 9.45l-7.72 7.72c-.78.78-.78 2.05 0 2.83L4 21.41c.39.39.9.59 1.41.59.51 0 1.02-.2 1.41-.59l7.78-7.78 2.81-2.81c.8-.78.8-2.07 0-2.86zM5.41 20L4 18.59l7.72-7.72 1.47 1.35L5.41 20z\"/>\n",
              "  </svg>\n",
              "      </button>\n",
              "      \n",
              "  <style>\n",
              "    .colab-df-container {\n",
              "      display:flex;\n",
              "      flex-wrap:wrap;\n",
              "      gap: 12px;\n",
              "    }\n",
              "\n",
              "    .colab-df-convert {\n",
              "      background-color: #E8F0FE;\n",
              "      border: none;\n",
              "      border-radius: 50%;\n",
              "      cursor: pointer;\n",
              "      display: none;\n",
              "      fill: #1967D2;\n",
              "      height: 32px;\n",
              "      padding: 0 0 0 0;\n",
              "      width: 32px;\n",
              "    }\n",
              "\n",
              "    .colab-df-convert:hover {\n",
              "      background-color: #E2EBFA;\n",
              "      box-shadow: 0px 1px 2px rgba(60, 64, 67, 0.3), 0px 1px 3px 1px rgba(60, 64, 67, 0.15);\n",
              "      fill: #174EA6;\n",
              "    }\n",
              "\n",
              "    [theme=dark] .colab-df-convert {\n",
              "      background-color: #3B4455;\n",
              "      fill: #D2E3FC;\n",
              "    }\n",
              "\n",
              "    [theme=dark] .colab-df-convert:hover {\n",
              "      background-color: #434B5C;\n",
              "      box-shadow: 0px 1px 3px 1px rgba(0, 0, 0, 0.15);\n",
              "      filter: drop-shadow(0px 1px 2px rgba(0, 0, 0, 0.3));\n",
              "      fill: #FFFFFF;\n",
              "    }\n",
              "  </style>\n",
              "\n",
              "      <script>\n",
              "        const buttonEl =\n",
              "          document.querySelector('#df-236226a1-1500-4aea-bff8-4c51bc909078 button.colab-df-convert');\n",
              "        buttonEl.style.display =\n",
              "          google.colab.kernel.accessAllowed ? 'block' : 'none';\n",
              "\n",
              "        async function convertToInteractive(key) {\n",
              "          const element = document.querySelector('#df-236226a1-1500-4aea-bff8-4c51bc909078');\n",
              "          const dataTable =\n",
              "            await google.colab.kernel.invokeFunction('convertToInteractive',\n",
              "                                                     [key], {});\n",
              "          if (!dataTable) return;\n",
              "\n",
              "          const docLinkHtml = 'Like what you see? Visit the ' +\n",
              "            '<a target=\"_blank\" href=https://colab.research.google.com/notebooks/data_table.ipynb>data table notebook</a>'\n",
              "            + ' to learn more about interactive tables.';\n",
              "          element.innerHTML = '';\n",
              "          dataTable['output_type'] = 'display_data';\n",
              "          await google.colab.output.renderOutput(dataTable, element);\n",
              "          const docLink = document.createElement('div');\n",
              "          docLink.innerHTML = docLinkHtml;\n",
              "          element.appendChild(docLink);\n",
              "        }\n",
              "      </script>\n",
              "    </div>\n",
              "  </div>\n",
              "  "
            ]
          },
          "metadata": {},
          "execution_count": 61
        }
      ]
    },
    {
      "cell_type": "code",
      "source": [
        "sns.barplot(data=in_type, x='type', y='installs')\n",
        "plt.title('Installations by Type (Free or Paid)')\n",
        "plt.xticks(rotation=75);"
      ],
      "metadata": {
        "colab": {
          "base_uri": "https://localhost:8080/",
          "height": 312
        },
        "id": "GiUUB3KtLsTL",
        "outputId": "1ca368b4-7c72-4a5f-a7e4-9684c598a737"
      },
      "execution_count": 62,
      "outputs": [
        {
          "output_type": "display_data",
          "data": {
            "text/plain": [
              "<Figure size 432x288 with 1 Axes>"
            ],
            "image/png": "[encoded data removed]"
          },
          "metadata": {
            "needs_background": "light"
          }
        }
      ]
    },
    {
      "cell_type": "markdown",
      "source": [
        "## What is the relationship between type and ratings?"
      ],
      "metadata": {
        "id": "ukWfmNH4L1FP"
      }
    },
    {
      "cell_type": "code",
      "source": [
        "plt.figure(figsize=(5, 5))\n",
        "sns.boxplot(data=df, x='type', y='rating')\n",
        "plt.title('Ratings vs Type')\n",
        "plt.xticks(rotation=75);"
      ],
      "metadata": {
        "colab": {
          "base_uri": "https://localhost:8080/",
          "height": 367
        },
        "id": "m_twEuFFLuu-",
        "outputId": "eef7e727-8144-44ab-b3f3-a3f37bc27c72"
      },
      "execution_count": 63,
      "outputs": [
        {
          "output_type": "display_data",
          "data": {
            "text/plain": [
              "<Figure size 360x360 with 1 Axes>"
            ],
            "image/png": "[encoded data removed]"
          },
          "metadata": {
            "needs_background": "light"
          }
        }
      ]
    },
    {
      "cell_type": "markdown",
      "source": [
        "We can see there there are slightly higher reviews for paid apps than free apps."
      ],
      "metadata": {
        "id": "zXjEOfjzL8bk"
      }
    },
    {
      "cell_type": "markdown",
      "source": [
        "## Distrubution of number of reviews"
      ],
      "metadata": {
        "id": "MK_uYtmxMA8s"
      }
    },
    {
      "cell_type": "code",
      "source": [
        "sns.distplot(df['reviews'], rug=True)\n",
        "plt.title('Distrubution of Reviews', size=10);\n",
        "plt.show()"
      ],
      "metadata": {
        "colab": {
          "base_uri": "https://localhost:8080/",
          "height": 382
        },
        "id": "8yEXhyMzL42H",
        "outputId": "ece3c7b5-a2b6-4ac8-821f-87d26e6a6beb"
      },
      "execution_count": 65,
      "outputs": [
        {
          "output_type": "stream",
          "name": "stderr",
          "text": [
            "/usr/local/lib/python3.7/dist-packages/seaborn/distributions.py:2619: FutureWarning: `distplot` is a deprecated function and will be removed in a future version. Please adapt your code to use either `displot` (a figure-level function with similar flexibility) or `histplot` (an axes-level function for histograms).\n",
            "  warnings.warn(msg, FutureWarning)\n",
            "/usr/local/lib/python3.7/dist-packages/seaborn/distributions.py:2103: FutureWarning: The `axis` variable is no longer used and will be removed. Instead, assign variables directly to `x` or `y`.\n",
            "  warnings.warn(msg, FutureWarning)\n"
          ]
        },
        {
          "output_type": "display_data",
          "data": {
            "text/plain": [
              "<Figure size 432x288 with 1 Axes>"
            ],
            "image/png": "[encoded data removed]"
          },
          "metadata": {
            "needs_background": "light"
          }
        }
      ]
    },
    {
      "cell_type": "markdown",
      "source": [
        "We can see that the vast majority of apps have less than 10M reviews."
      ],
      "metadata": {
        "id": "z9hGCyY-Ma1Y"
      }
    },
    {
      "cell_type": "markdown",
      "source": [
        "\n",
        "## Does number of reviews correlate to rating?"
      ],
      "metadata": {
        "id": "QxIB4AzsMfC8"
      }
    },
    {
      "cell_type": "code",
      "source": [
        "plt.figure(figsize=(10, 10))\n",
        "sns.jointplot(data=df, x='reviews', y='rating')\n",
        "plt.show()"
      ],
      "metadata": {
        "colab": {
          "base_uri": "https://localhost:8080/",
          "height": 458
        },
        "id": "OuHVArACMRzk",
        "outputId": "be3ed857-6efb-4f37-80a4-3526a74c0c32"
      },
      "execution_count": 66,
      "outputs": [
        {
          "output_type": "display_data",
          "data": {
            "text/plain": [
              "<Figure size 720x720 with 0 Axes>"
            ]
          },
          "metadata": {}
        },
        {
          "output_type": "display_data",
          "data": {
            "text/plain": [
              "<Figure size 432x432 with 3 Axes>"
            ],
            "image/png": "[encoded data removed]"
          },
          "metadata": {
            "needs_background": "light"
          }
        }
      ]
    },
    {
      "cell_type": "markdown",
      "source": [
        "This graph shows us while most apps get good ratings, there is a strong correlation between more well known apps and higher ratings."
      ],
      "metadata": {
        "id": "F2Uuix_1MuTh"
      }
    },
    {
      "cell_type": "markdown",
      "source": [
        "\n",
        "## How does size impact installations?"
      ],
      "metadata": {
        "id": "j0mlFCmrMxeL"
      }
    },
    {
      "cell_type": "code",
      "source": [
        "plt.figure(figsize=(20, 5))\n",
        "sns.lineplot(data=df, x='size(kb)', y='installs')\n",
        "plt.title('Size vs Installs')\n",
        "plt.xticks(rotation=75);"
      ],
      "metadata": {
        "colab": {
          "base_uri": "https://localhost:8080/",
          "height": 379
        },
        "id": "slV_ND2HMjXH",
        "outputId": "63d082b1-be20-4326-f497-23a8fcae7fa2"
      },
      "execution_count": 67,
      "outputs": [
        {
          "output_type": "display_data",
          "data": {
            "text/plain": [
              "<Figure size 1440x360 with 1 Axes>"
            ],
            "image/png": "[encoded data removed]"
          },
          "metadata": {
            "needs_background": "light"
          }
        }
      ]
    },
    {
      "cell_type": "markdown",
      "source": [
        "We can see that there seems to be a couple of sweet spots, from about 10,000 kb to 18,000 kb, and then from 75,000 kb to about 80,000 kb in terms of number of installations."
      ],
      "metadata": {
        "id": "vKtzf4zBM7qU"
      }
    },
    {
      "cell_type": "markdown",
      "source": [
        "## How does size impact rating?"
      ],
      "metadata": {
        "id": "K2HQTpTmNAWa"
      }
    },
    {
      "cell_type": "code",
      "source": [
        "plt.figure(figsize=(10, 10))\n",
        "sns.jointplot(data=df, x='size(kb)', y='rating');\n",
        "plt.show()"
      ],
      "metadata": {
        "colab": {
          "base_uri": "https://localhost:8080/",
          "height": 458
        },
        "id": "7H6qoHk5M0pd",
        "outputId": "c8bed405-de27-47ff-d680-2f6bb5cf7a6f"
      },
      "execution_count": 68,
      "outputs": [
        {
          "output_type": "display_data",
          "data": {
            "text/plain": [
              "<Figure size 720x720 with 0 Axes>"
            ]
          },
          "metadata": {}
        },
        {
          "output_type": "display_data",
          "data": {
            "text/plain": [
              "<Figure size 432x432 with 3 Axes>"
            ],
            "image/png": "[encoded data removed]"
          },
          "metadata": {
            "needs_background": "light"
          }
        }
      ]
    },
    {
      "cell_type": "markdown",
      "source": [
        "This graph suggests that apps with a lower size have more varied rating. Meaning that as we increase in size, the ratings tend to fall less and less."
      ],
      "metadata": {
        "id": "i8rvc4RpNKt2"
      }
    },
    {
      "cell_type": "markdown",
      "source": [
        "## How does content rating affect number of installations?"
      ],
      "metadata": {
        "id": "NQ48BOI7NNgT"
      }
    },
    {
      "cell_type": "code",
      "source": [
        "in_cr = df.groupby('content_rating')['installs'].sum()\n",
        "in_cr = pd.DataFrame(in_cr).reset_index()\n",
        "\n",
        "plt.figure(figsize=(15, 5))\n",
        "order = df.groupby(['content_rating'])['installs'].sum().sort_values(ascending=False).index\n",
        "sns.barplot(data=in_cr, x='content_rating', y='installs', order=order)\n",
        "plt.title('Installations by Content Rating')\n",
        "plt.xticks(rotation=75);"
      ],
      "metadata": {
        "colab": {
          "base_uri": "https://localhost:8080/",
          "height": 431
        },
        "id": "Wa6nAYhdNFL6",
        "outputId": "fe92e76d-3b7d-4010-cfe4-99c76d0035e6"
      },
      "execution_count": 69,
      "outputs": [
        {
          "output_type": "display_data",
          "data": {
            "text/plain": [
              "<Figure size 1080x360 with 1 Axes>"
            ],
            "image/png": "[encoded data removed]"
          },
          "metadata": {
            "needs_background": "light"
          }
        }
      ]
    },
    {
      "cell_type": "code",
      "source": [
        "plt.figure(figsize=(15, 5))\n",
        "sns.boxplot(data=df, x='content_rating', y='rating')\n",
        "plt.title('Content Rating vs Rating')\n",
        "plt.xticks(rotation=75);"
      ],
      "metadata": {
        "colab": {
          "base_uri": "https://localhost:8080/",
          "height": 431
        },
        "id": "DuTtEej8NRDB",
        "outputId": "10d12b00-c8d6-4a42-e9e2-d77229c08b77"
      },
      "execution_count": 70,
      "outputs": [
        {
          "output_type": "display_data",
          "data": {
            "text/plain": [
              "<Figure size 1080x360 with 1 Axes>"
            ],
            "image/png": "[encoded data removed]"
          },
          "metadata": {
            "needs_background": "light"
          }
        }
      ]
    },
    {
      "cell_type": "markdown",
      "source": [
        "\n",
        "## Do apps with certain content ratings get more reviews than others?"
      ],
      "metadata": {
        "id": "jEDVipyqNz5Z"
      }
    },
    {
      "cell_type": "code",
      "source": [
        "cr_re = df.groupby(['content_rating'])['reviews'].sum()\n",
        "cr_re = pd.DataFrame(cr_re).reset_index()\n",
        "\n",
        "plt.figure(figsize=(15, 5))\n",
        "order = df.groupby(['content_rating'])['reviews'].sum().sort_values(ascending=False).index\n",
        "sns.barplot(data=cr_re, x='content_rating', y='reviews', order=order)\n",
        "plt.title('Number of Reviews by Content Rating')\n",
        "plt.xticks(rotation=75);\n"
      ],
      "metadata": {
        "colab": {
          "base_uri": "https://localhost:8080/",
          "height": 431
        },
        "id": "-D6eGDvwNUU9",
        "outputId": "ec1fbd8c-8ac3-4af4-d1e9-775d042a5bcf"
      },
      "execution_count": 71,
      "outputs": [
        {
          "output_type": "display_data",
          "data": {
            "text/plain": [
              "<Figure size 1080x360 with 1 Axes>"
            ],
            "image/png": "[encoded data removed]"
          },
          "metadata": {
            "needs_background": "light"
          }
        }
      ]
    },
    {
      "cell_type": "code",
      "source": [
        "cr_re.sort_values(by='reviews')"
      ],
      "metadata": {
        "colab": {
          "base_uri": "https://localhost:8080/",
          "height": 238
        },
        "id": "TYHbhj_1N5Lq",
        "outputId": "88f7048b-bf70-4358-e338-79449928378b"
      },
      "execution_count": 72,
      "outputs": [
        {
          "output_type": "execute_result",
          "data": {
            "text/plain": [
              "    content_rating     reviews\n",
              "5          UNRATED        1187\n",
              "0  ADULTS ONLY 18+       81348\n",
              "3       MATURE 17+   197166533\n",
              "2     EVERYONE 10+   683997228\n",
              "4             TEEN  1131523721\n",
              "1         EVERYONE  2801847376"
            ],
            "text/html": [
              "\n",
              "  <div id=\"df-7184a446-b18b-4ac5-bcd8-b11300727ac2\">\n",
              "    <div class=\"colab-df-container\">\n",
              "      <div>\n",
              "<style scoped>\n",
              "    .dataframe tbody tr th:only-of-type {\n",
              "        vertical-align: middle;\n",
              "    }\n",
              "\n",
              "    .dataframe tbody tr th {\n",
              "        vertical-align: top;\n",
              "    }\n",
              "\n",
              "    .dataframe thead th {\n",
              "        text-align: right;\n",
              "    }\n",
              "</style>\n",
              "<table border=\"1\" class=\"dataframe\">\n",
              "  <thead>\n",
              "    <tr style=\"text-align: right;\">\n",
              "      <th></th>\n",
              "      <th>content_rating</th>\n",
              "      <th>reviews</th>\n",
              "    </tr>\n",
              "  </thead>\n",
              "  <tbody>\n",
              "    <tr>\n",
              "      <th>5</th>\n",
              "      <td>UNRATED</td>\n",
              "      <td>1187</td>\n",
              "    </tr>\n",
              "    <tr>\n",
              "      <th>0</th>\n",
              "      <td>ADULTS ONLY 18+</td>\n",
              "      <td>81348</td>\n",
              "    </tr>\n",
              "    <tr>\n",
              "      <th>3</th>\n",
              "      <td>MATURE 17+</td>\n",
              "      <td>197166533</td>\n",
              "    </tr>\n",
              "    <tr>\n",
              "      <th>2</th>\n",
              "      <td>EVERYONE 10+</td>\n",
              "      <td>683997228</td>\n",
              "    </tr>\n",
              "    <tr>\n",
              "      <th>4</th>\n",
              "      <td>TEEN</td>\n",
              "      <td>1131523721</td>\n",
              "    </tr>\n",
              "    <tr>\n",
              "      <th>1</th>\n",
              "      <td>EVERYONE</td>\n",
              "      <td>2801847376</td>\n",
              "    </tr>\n",
              "  </tbody>\n",
              "</table>\n",
              "</div>\n",
              "      <button class=\"colab-df-convert\" onclick=\"convertToInteractive('df-7184a446-b18b-4ac5-bcd8-b11300727ac2')\"\n",
              "              title=\"Convert this dataframe to an interactive table.\"\n",
              "              style=\"display:none;\">\n",
              "        \n",
              "  <svg xmlns=\"http://www.w3.org/2000/svg\" height=\"24px\"viewBox=\"0 0 24 24\"\n",
              "       width=\"24px\">\n",
              "    <path d=\"M0 0h24v24H0V0z\" fill=\"none\"/>\n",
              "    <path d=\"M18.56 5.44l.94 2.06.94-2.06 2.06-.94-2.06-.94-.94-2.06-.94 2.06-2.06.94zm-11 1L8.5 8.5l.94-2.06 2.06-.94-2.06-.94L8.5 2.5l-.94 2.06-2.06.94zm10 10l.94 2.06.94-2.06 2.06-.94-2.06-.94-.94-2.06-.94 2.06-2.06.94z\"/><path d=\"M17.41 7.96l-1.37-1.37c-.4-.4-.92-.59-1.43-.59-.52 0-1.04.2-1.43.59L10.3 9.45l-7.72 7.72c-.78.78-.78 2.05 0 2.83L4 21.41c.39.39.9.59 1.41.59.51 0 1.02-.2 1.41-.59l7.78-7.78 2.81-2.81c.8-.78.8-2.07 0-2.86zM5.41 20L4 18.59l7.72-7.72 1.47 1.35L5.41 20z\"/>\n",
              "  </svg>\n",
              "      </button>\n",
              "      \n",
              "  <style>\n",
              "    .colab-df-container {\n",
              "      display:flex;\n",
              "      flex-wrap:wrap;\n",
              "      gap: 12px;\n",
              "    }\n",
              "\n",
              "    .colab-df-convert {\n",
              "      background-color: #E8F0FE;\n",
              "      border: none;\n",
              "      border-radius: 50%;\n",
              "      cursor: pointer;\n",
              "      display: none;\n",
              "      fill: #1967D2;\n",
              "      height: 32px;\n",
              "      padding: 0 0 0 0;\n",
              "      width: 32px;\n",
              "    }\n",
              "\n",
              "    .colab-df-convert:hover {\n",
              "      background-color: #E2EBFA;\n",
              "      box-shadow: 0px 1px 2px rgba(60, 64, 67, 0.3), 0px 1px 3px 1px rgba(60, 64, 67, 0.15);\n",
              "      fill: #174EA6;\n",
              "    }\n",
              "\n",
              "    [theme=dark] .colab-df-convert {\n",
              "      background-color: #3B4455;\n",
              "      fill: #D2E3FC;\n",
              "    }\n",
              "\n",
              "    [theme=dark] .colab-df-convert:hover {\n",
              "      background-color: #434B5C;\n",
              "      box-shadow: 0px 1px 3px 1px rgba(0, 0, 0, 0.15);\n",
              "      filter: drop-shadow(0px 1px 2px rgba(0, 0, 0, 0.3));\n",
              "      fill: #FFFFFF;\n",
              "    }\n",
              "  </style>\n",
              "\n",
              "      <script>\n",
              "        const buttonEl =\n",
              "          document.querySelector('#df-7184a446-b18b-4ac5-bcd8-b11300727ac2 button.colab-df-convert');\n",
              "        buttonEl.style.display =\n",
              "          google.colab.kernel.accessAllowed ? 'block' : 'none';\n",
              "\n",
              "        async function convertToInteractive(key) {\n",
              "          const element = document.querySelector('#df-7184a446-b18b-4ac5-bcd8-b11300727ac2');\n",
              "          const dataTable =\n",
              "            await google.colab.kernel.invokeFunction('convertToInteractive',\n",
              "                                                     [key], {});\n",
              "          if (!dataTable) return;\n",
              "\n",
              "          const docLinkHtml = 'Like what you see? Visit the ' +\n",
              "            '<a target=\"_blank\" href=https://colab.research.google.com/notebooks/data_table.ipynb>data table notebook</a>'\n",
              "            + ' to learn more about interactive tables.';\n",
              "          element.innerHTML = '';\n",
              "          dataTable['output_type'] = 'display_data';\n",
              "          await google.colab.output.renderOutput(dataTable, element);\n",
              "          const docLink = document.createElement('div');\n",
              "          docLink.innerHTML = docLinkHtml;\n",
              "          element.appendChild(docLink);\n",
              "        }\n",
              "      </script>\n",
              "    </div>\n",
              "  </div>\n",
              "  "
            ]
          },
          "metadata": {},
          "execution_count": 72
        }
      ]
    },
    {
      "cell_type": "markdown",
      "source": [
        "\n",
        "## Is there a correlation between rating and year last updated?"
      ],
      "metadata": {
        "id": "3715dLNRN_x-"
      }
    },
    {
      "cell_type": "code",
      "source": [
        "plt.figure(figsize=(10, 5))\n",
        "sns.jointplot(data=df, x='last_updated', y='rating')"
      ],
      "metadata": {
        "colab": {
          "base_uri": "https://localhost:8080/",
          "height": 476
        },
        "id": "LNrL8V0iN8O1",
        "outputId": "e63e1062-391a-4d00-c308-474ce59b4acb"
      },
      "execution_count": 73,
      "outputs": [
        {
          "output_type": "execute_result",
          "data": {
            "text/plain": [
              "<seaborn.axisgrid.JointGrid at 0x7f1bd5d165d0>"
            ]
          },
          "metadata": {},
          "execution_count": 73
        },
        {
          "output_type": "display_data",
          "data": {
            "text/plain": [
              "<Figure size 720x360 with 0 Axes>"
            ]
          },
          "metadata": {}
        },
        {
          "output_type": "display_data",
          "data": {
            "text/plain": [
              "<Figure size 432x432 with 3 Axes>"
            ],
            "image/png": "[encoded data removed]"
          },
          "metadata": {
            "needs_background": "light"
          }
        }
      ]
    },
    {
      "cell_type": "markdown",
      "source": [
        "There seems to be more variation in rating in apps that have been updated more recently.\n",
        "\n",
        " Lets find out."
      ],
      "metadata": {
        "id": "y2JG6L1cOIwc"
      }
    },
    {
      "cell_type": "code",
      "source": [
        "plt.figure(figsize=(10, 5))\n",
        "sns.lineplot(data=df, x='last_updated', y='installs')"
      ],
      "metadata": {
        "colab": {
          "base_uri": "https://localhost:8080/",
          "height": 363
        },
        "id": "J9C_Uo6xOEs6",
        "outputId": "d623d289-563b-45b3-81b9-3222f8fa3a42"
      },
      "execution_count": 74,
      "outputs": [
        {
          "output_type": "execute_result",
          "data": {
            "text/plain": [
              "<matplotlib.axes._subplots.AxesSubplot at 0x7f1bd59032d0>"
            ]
          },
          "metadata": {},
          "execution_count": 74
        },
        {
          "output_type": "display_data",
          "data": {
            "text/plain": [
              "<Figure size 720x360 with 1 Axes>"
            ],
            "image/png": "[encoded data removed]"
          },
          "metadata": {
            "needs_background": "light"
          }
        }
      ]
    },
    {
      "cell_type": "markdown",
      "source": [
        "## So my hypothesis was correct. It seems as though the variety in ratings comes from the fact that there are vastly more installs in apps last updated more frequently, specfically in the year 2018."
      ],
      "metadata": {
        "id": "YrtqIYGHOYL2"
      }
    },
    {
      "cell_type": "code",
      "source": [],
      "metadata": {
        "id": "RdICosJWOUTj"
      },
      "execution_count": null,
      "outputs": []
    }
  ]
}